{
 "metadata": {
  "language_info": {
   "codemirror_mode": {
    "name": "ipython",
    "version": 3
   },
   "file_extension": ".py",
   "mimetype": "text/x-python",
   "name": "python",
   "nbconvert_exporter": "python",
   "pygments_lexer": "ipython3",
   "version": "3.9.1-final"
  },
  "orig_nbformat": 2,
  "kernelspec": {
   "name": "python3",
   "display_name": "Python 3.9.1 64-bit",
   "metadata": {
    "interpreter": {
     "hash": "ac2eaa0ea0ebeafcc7822e65e46aa9d4f966f30b695406963e145ea4a91cd4fc"
    }
   }
  }
 },
 "nbformat": 4,
 "nbformat_minor": 2,
 "cells": [
  {
   "cell_type": "code",
   "execution_count": null,
   "metadata": {},
   "outputs": [],
   "source": [
    "from pdfminer.high_level import extract_text\n",
    "import docx2txt\n",
    "from os import listdir\n",
    "from os.path import isfile, join\n",
    "import nltk\n",
    "\n",
    "nltk.download('punkt')\n",
    "nltk.download('averaged_perceptron_tagger')\n",
    "nltk.download('maxent_ne_chunker')\n",
    "nltk.download('words')"
   ]
  },
  {
   "cell_type": "code",
   "execution_count": 28,
   "metadata": {},
   "outputs": [
    {
     "output_type": "stream",
     "name": "stdout",
     "text": [
      "Ranjith R 2021 \n",
      " names: ['Infrastructure Engineer Devops', 'Networking CSS', 'Chennai', 'Bangalore', 'Cloud Computing', 'Certified Business English', 'Course', 'Route53', 'Cloud Formation', 'Amazon', 'Infrastructure', 'Code', 'Apache Maven', 'Cisco Routers', 'Network Performance Monitoring', 'Jira', 'Salesforce', 'Python', 'Roles', 'Route53', 'Jenkins', 'Docker', 'Ansible', 'Infra Engineer', 'Route53', 'Jenkins', 'Docker Image', 'Terraform', 'Nagios', 'Ethnus Consultancy Pvt Ltd', 'Pondicherry University', 'Bannari Amman Institute', 'Months', 'Chennai', 'Blood Group', 'Tamil Ranjith']\n",
      "1578286234830_CURRICULUM VITAE \n",
      " names: ['Career Objective', 'Rohtak Technical', 'Basic Concepts', 'Java', 'Summer Training', 'Noida Technology', 'Android Duration', 'Google', 'Noida Technology', 'Html', 'Cloud Computing', 'Online Cab Booking System', 'Months Industrial Training', 'Noida Technology', 'Role', 'Have', 'Have', 'Have', 'Palak Srivastava Father', 'Mr. Anurag Srivastava Date', 'Female Marital Status', 'Single Nationality', 'Faridabad Palak Srivastava']\n",
      "*** error **** Praveena CV.doc is a neither pdf nor word\n",
      "Kuntal Moitra_Cloud.docx \n",
      " names: ['Kuntal', 'Moitra Phone', 'Cloud AWS', 'Network Administration', 'Cloud', 'Network', 'Cloud Administrator', 'Jenkins', 'Cognito Pools', 'Splunk URL', 'Petrel', 'Pegasys', 'Aspen One', 'Schlumberger Knowledge', 'Basics', 'Lambda', 'Putty', 'Microsoft Office', 'Jenkins', 'Bash Scripting', 'Ansible', 'Campus Infotech', 'Stephane Maarek', 'Kolkata', 'System Analyst', 'Nava Nalanda High School', 'Kolkata', 'Kolkata', 'Ghostotala Main Scheme Road', 'Kolkata']\n",
      "Praveen_YL_3Year'sExp_DevOps \n",
      " names: ['Linux', 'Docker Swarm', 'Apache Tomcat', 'Elastic Load', 'Jenkins', 'Good Hands', 'Linux', 'Maven', 'Basic', 'Merges', 'Tags', 'Scanner Application Server Artifactory', 'Till Date Project Role Duration', 'Maven', 'Nexus', 'Tomcat', 'Jenkins', 'Docker Swarm', 'Account Management', 'Order Management', 'Items Management', 'Cloud', 'Oracle Ebiz Systems', 'Source Control', 'Jenkins', 'Build', 'Tomcat Application', 'Code Quality Analysis Tools', 'Nexus', 'Jenkins', 'Docker', 'Docker', 'Jenkins']\n",
      "Sonali_DevOps \n",
      " names: ['Isha Casablanca', 'Panathur', 'Karnataka', 'Python', 'Linux', 'Ansible', 'Terraform', 'Ruby Siksha', 'Bhubaneswar', 'Biju Patnaik University', 'Odisha', 'Route53', 'Developed Python', 'Infrastructure', 'Strong', 'Developed', 'Python', 'Ansible', 'Terraform', 'Jenkins', 'Release Management', 'Jenkins', 'Developed Groovy', 'Yum', 'Alering', 'Remedy EXPERIENCE', 'Deﬁne', 'Maintain', 'Monitor Grafana', 'Install Jenkins', 'Idenify', 'Git', 'Maven', 'Jenkins', 'Ansible', 'Zero Downime', 'Blues', 'Docker', 'Developed Ansible', 'Developed Terraform', 'Azure', 'Terraform', 'Ansible', 'Python', 'Jenkins', 'Kubernetes', 'Developed', 'Database', 'Developed']\n",
      "RaJ_Gupta_Resume \n",
      " names: ['Software', 'Deep', 'Cloud', 'Amazon WEB', 'Storage', 'Disaster', 'Cloud', 'Python Boto3', 'Docker', 'Kubernetes Devops', 'Jenkins Practice', 'Customer', 'Zenoss', 'Terraform', 'Ansible', 'Jenkins', 'Nagios Network', 'Customer Gateway', 'Cognizant Technology Solution', 'Project Name Royal Bank', 'Window', 'Linux Tools ServiceNow', 'Jira', 'Slack', 'Jenkins', 'Grafana', 'Pagerduty', 'Job Responsibility', 'Azure', 'Opensfit', 'Key', 'Node', 'Account', 'Project Name', 'Brands Organization Cognizant Role', 'Linux Tools Zenoss', 'Terraform', 'Ansible', 'Slack', 'Jenkins Job', 'Key', 'Strong Knowledge', 'Ec2 Instance Creations', 'Disk Expansions', 'Snapshot', 'Strong Working Knowledge', 'Volume Migrations', 'Instance Firewall Configurations', 'Cloud Vendor', 'Glacier Client', 'Windows', 'Linux Operating Systems', 'Good', 'Linux Machines', 'Data', 'Cloud Front', 'Good', 'Server Automation Tasks', 'Non RDS Databases', 'Site', 'Good Understanding Knowledge', 'Docker', 'Docker', 'Project Name', 'Linux', 'Mainframe Technologies Amazon Web Services', 'Java', 'Python Job', 'Version Control System', 'Jenkins', 'Software Developer', 'Union Bank', 'Developer', 'Technical Training', 'Amazon Web Services', 'Solution Architect', 'Amazon Web Services', 'Amazon Web Services', 'Cognizant', 'Cognizant', 'Core Java', 'Cognizant', 'Amazon Web Services', 'Amazon Console', 'Python', 'Linux Soft Skills', 'Time Management', 'Problem Solving', 'Creative Thinking', 'Critical Decision Making', 'Innovation', 'Beyond', 'Client Visit Town', 'Best Performer Got', 'Raj Kumar Gupta Date', 'Hindi', 'Raj Kumar Gupta Place']\n",
      "Sanjeevani_Koli_Resume \n",
      " names: ['Sanjeevani Koli Mob No', 'Tenure', 'Team Oct', 'Git', 'Ansible', 'Grafana', 'Amazon Cloud', 'Memory', 'Amazon Route', 'Resources Bills', 'Lamba', 'Troubleshoot Git', 'Local Server', 'Infrastructure', 'Playbooks', 'Ansible', 'Ansible', 'United Health Group Tenure', 'Apache Server', 'Elastic Beanstalk', 'Elastic Search', 'Elastic', 'Cloud Watch', 'Elastic Beanstalk', 'Client', 'Street Corporation', 'Upgrade Fix Packs', 'Fix', 'Client', 'Retail Project Tenure', 'Installed EARs', 'Web Servers', 'Lucknow', 'Kumar', 'Magarpatta', 'Sanjeevani']\n",
      "Tamil -AwsDevOpsResume  \n",
      " names: ['Cell No', 'Elastic Compute Cloud', 'Elastic Beanstalk', 'Cloud Front', 'Route53', 'Git', 'Jenkins', 'Jenkins', 'Master', 'Slave', 'Linux Administration', 'Expertise Knowledge', 'Maven', 'Apache Tomcat', 'Windows', 'Linux', 'Unix', 'Systems', 'Docker Ansible Jenkins', 'Nexus Apache Tomcat Windows', 'Linux Prometheus', 'Splunk SonarQube Infrastructure', 'Terraform AWS Python', 'Anna University', 'System', 'Windows', 'Route53', 'Amazon RDS', 'Amazon Cloud Watch', 'Amazon Route', 'Apache', 'Monitor Production Server Health', 'Swap Memory', 'Hard', 'Cloud Watch', 'Cloud Watch', 'Amazon Cloud Front', 'Origin Path', 'Server', 'Client Role Environment Roles', 'Maven', 'Jenkins', 'Tomcat', 'Ansible', 'Amazon EC2 Cloud', 'Amazon Web Services', 'Jenkins', 'Release Engineer', 'User Management', 'Sonatype Nexus', 'Docker Images', 'Docker Containers', 'Languages Known', 'Chennai', 'Tamil', 'Vanan']\n",
      "Resume-01-mar-2021 \n",
      " names: ['Shariful Akhter', 'Cloud Computing', 'Machine Learning', 'Docker Hub', 'Azure Cloud', 'Open Source Tools', 'Helm', 'Ansible', 'Jenkins', 'Pulumi', 'Best Paper Award', 'Chennai Vellore Institute', 'Azure', 'Helm', 'Ansible', 'Jenkins', 'Git', 'Python', 'Bash', 'Terraform', 'Cloud Computing', 'Machine Learning', 'Deep Learning', 'Recommender System', 'Big Data Technology', 'Linux', 'Effective Collaborative', 'Paper Award', 'Matrix Factorization Novel Approach', 'Hyderabad', 'Ansible', 'Jenkins', 'Wrote Python Boto3', 'Automated Infrastructure', 'Pulumi', 'Hybrid Cloud', 'Azure', 'Navi Mumbai', 'Helm', 'Azure Cloud', 'Elasticsearch', 'Kibana', 'Setup Kubernetes Cluster', 'Kubernetes Cluster', 'Azure Cloud', 'Windows OS', 'Developed Problem Solving', 'Teamwork', 'Items', 'Effective Collaborative', 'Matrix Factorization', 'Matrix Factorization', 'Matrix Factorization', 'Taxi Fare', 'Performed', 'Data Visualization', 'Feature Engineering', 'Linear Regression', 'Decision Trees', 'Ensemble Learning', 'Jupyterlab Slim', 'Docker', 'Jenkins']\n",
      "Ramyasree_CV \n",
      " names: ['Linux Shell Scripting', 'Skills Ability', 'Telugu English Hindi Ramyasree Anakala', 'Kurnool Location', 'Bengaluru', 'Medium School']\n",
      "vikashgupta_Latest_DevOpsCV \n",
      " names: ['Skills', 'Gerrit Kubernetes', 'Linux Python Jenkins', 'Bit Bucket', 'Unix Shell Scripting', 'Hudson', 'Impala Repo', 'Current', 'Deploy Binaries', 'Automated', 'Jenkins', 'Android', 'Automated', 'Docker', 'Jenkins', 'Bitbucket', 'Apache', 'Education BE', 'Standard Patna Central School', 'Patna', 'Bihar', 'Certification']\n",
      "Vignesh-resume \n",
      " names: ['Tag', 'Elastic Load Balancer', 'Auto Scaling', 'Cisco PCRF', 'Python', 'Ansible', 'Network', 'Tag', 'Elastic Load Balancer', 'Auto Scaling', 'System Scripting', 'Neutron', 'Horizon', 'Nova', 'Linux', 'Python Experience', 'Auto Scaling', 'Performed', 'S3', 'Lead Engineer Cisco Policy Suite', 'Mobile', 'Developed', 'Cinder', 'Neutron', 'Built', 'Linux CDN', 'Education', 'Anna University']\n",
      "WuYongLatest \n",
      " names: ['Shanhao St', 'Laravel', 'React', 'Azure', 'Google Cloud', 'Firebase', 'Swift', 'React Native', 'Node', 'React', 'Vue', 'Angular', 'Shenyang', 'Yuanda Technical', 'Ltd', 'Mobile Developer', 'Voyage', 'Node', 'Express', 'Sequelize ORM', 'React', 'Server Developer', 'Python', 'Developed', 'Twitter', 'Node', 'Syncs', 'Live', 'Maintains', 'Rails']\n",
      "Puru Ranjan_Software Development Senior Associate_DevOps_60 days  \n",
      " names: ['P', 'Software Developement Engineer', 'Application Maintenance', 'Project Execution', 'Raja', 'Scien', 'Mother Khazani Convent School', 'Chhapra Central School', 'Terraform', 'Jenkins', 'Maven', 'Karnataka Oct', 'Amazon Web Services', 'Leveraged', 'Terraform', 'Amazon Web Services', 'Elastic File System', 'Direct Connect', 'Route53', 'Cloud Watch', 'Cloud Trail', 'Cloud Formation', 'Elastic Load Balancer', 'Docker', 'Jenkins', 'Jenkins', 'Developed Templates', 'Terraform', 'Amazon EC2 Cloud', 'Amazon Web Services', 'Karnataka Oct', 'Bharti Airtel Ltd', 'Karnataka June', 'Python', 'Jenkins', 'Amazon Web Services Devops', 'Udemy Git', 'Udemy A', 'Blue Cross Blue Shield', 'Father', 'Mr. Vinay Ranjan Date', 'Marital Status', 'Single', 'Ideal Home Circle']\n",
      "JitendraResume \n",
      " names: []\n",
      "*** error **** UDAYAKUMAR_Jan 2021.doc is a neither pdf nor word\n",
      "Honey_Sood_Resume \n",
      " names: ['Public Cloud', 'Public Cloud Migrations', 'Devops Engineer', 'Jenkins', 'Terraform Work', 'Till', 'Cloud Engineer', 'Auto Scaling Groups', 'Elastic Cache', 'Cloud Formation', 'Cloud Watch', 'Cloud Front', 'Cloud Trail', 'Build', 'Jenkins Master', 'Worker Nodes', 'Ansible', 'Blue', 'Elastic Beanstalk', 'Storage', 'Cloud Operations Setting', 'Migration', 'Azure Cloud Service', 'Resource Groups', 'Load Balancer Configurations', 'Oms', 'Traffic Manager', 'Azure Backup', 'Perform', 'Monitor', 'Monitor', 'School Dehra', 'Shimla HONEY', 'Noida', 'Online AWS Business', 'Online AWS Migration Methodology', 'Tools Microsoft Azure Fundamentals', 'Microsoft Azure Administrator', 'Skills Skills AWS', 'Grafana', 'Jenkins', 'United Football Club Estée Lauder Companies', 'Languages Languages English', 'Hindi', 'Punjabi Hindi', 'Punjabi']\n"
     ]
    }
   ],
   "source": [
    "def extract_text_from_docx(docx_path):\n",
    "    txt = docx2txt.process(docx_path)\n",
    "    if txt:\n",
    "        return txt.replace('\\t', ' ')\n",
    "    return None\n",
    "\n",
    "def extract_text_from_pdf(pdf_path):\n",
    "    return extract_text(pdf_path)\n",
    "\n",
    "RESUMES_PATH = '/Users/mahpatil/Downloads/resumes/'\n",
    "FILE_TYPE_PDF = '.pdf'\n",
    "FILE_TYPE_DOC = ['.doc']\n",
    "FILE_TYPE_DOCX = ['.docx']\n",
    "\n",
    "files = os.listdir(RESUMES_PATH)\n",
    "def extract_names(txt):\n",
    "    person_names = []\n",
    "\n",
    "    for sent in nltk.sent_tokenize(txt):\n",
    "        for chunk in nltk.ne_chunk(nltk.pos_tag(nltk.word_tokenize(sent))):\n",
    "            if hasattr(chunk, 'label') and chunk.label() == 'PERSON':\n",
    "                person_names.append(\n",
    "                    ' '.join(chunk_leave[0] for chunk_leave in chunk.leaves())\n",
    "                )\n",
    "\n",
    "    return person_names\n",
    "processed = []\n",
    "\n",
    "i = 0\n",
    "for file in files:\n",
    "    fileName,fileExtension = os.path.splitext(file)\n",
    "    if (fileExtension in FILE_TYPE_PDF):\n",
    "        text = extract_text_from_pdf(f'{RESUMES_PATH}{file}')\n",
    "    elif ((fileExtension in FILE_TYPE_DOCX)):\n",
    "        text = extract_text_from_docx(f'{RESUMES_PATH}{file}')\n",
    "    #elif ((fileExtension in FILE_TYPE_DOC)):\n",
    "    #    print(f'*** error ****{file} is a word')\n",
    "    else:\n",
    "        print(f'*** error **** {file} is a neither pdf nor word')\n",
    "        i = i + 1\n",
    "        continue\n",
    "    names = extract_names(text)\n",
    "    item = {\n",
    "        'text' : text,\n",
    "        'names' : names\n",
    "    }\n",
    "    processed.append(item)\n",
    "    print(f'{fileName} \\n names: {names}')\n",
    "    i = i + 1\n",
    "#if __name__ == '__main__':\n",
    "#    print(extract_text_from_pdf('./resume.pdf'))  # noqa: T001\n",
    "#if __name__ == '__main__':\n",
    "#    print(extract_text_from_docx('./resume.docx'))  #\n"
   ]
  },
  {
   "cell_type": "code",
   "execution_count": null,
   "metadata": {},
   "outputs": [],
   "source": [
    "import nltk\n",
    "\n",
    "nltk.download('punkt')\n",
    "nltk.download('averaged_perceptron_tagger')\n",
    "nltk.download('maxent_ne_chunker')\n",
    "nltk.download('words')\n"
   ]
  }
 ]
}