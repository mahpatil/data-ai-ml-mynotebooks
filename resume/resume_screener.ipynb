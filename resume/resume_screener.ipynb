{
 "metadata": {
  "language_info": {
   "codemirror_mode": {
    "name": "ipython",
    "version": 3
   },
   "file_extension": ".py",
   "mimetype": "text/x-python",
   "name": "python",
   "nbconvert_exporter": "python",
   "pygments_lexer": "ipython3",
   "version": "3.9.1-final"
  },
  "orig_nbformat": 2,
  "kernelspec": {
   "name": "python3",
   "display_name": "Python 3.9.1 64-bit",
   "metadata": {
    "interpreter": {
     "hash": "ac2eaa0ea0ebeafcc7822e65e46aa9d4f966f30b695406963e145ea4a91cd4fc"
    }
   }
  }
 },
 "nbformat": 4,
 "nbformat_minor": 2,
 "cells": [
  {
   "cell_type": "code",
   "execution_count": null,
   "metadata": {},
   "outputs": [],
   "source": [
    "from pdfminer.high_level import extract_text\n",
    "import docx2txt\n",
    "from os import listdir\n",
    "from os.path import isfile, join\n",
    "import nltk\n",
    "\n",
    "nltk.download('punkt')\n",
    "nltk.download('averaged_perceptron_tagger')\n",
    "nltk.download('maxent_ne_chunker')\n",
    "nltk.download('words')"
   ]
  },
  {
   "cell_type": "code",
   "execution_count": null,
   "metadata": {},
   "outputs": [],
   "source": [
    "def extract_text_from_docx(docx_path):\n",
    "    txt = docx2txt.process(docx_path)\n",
    "    if txt:\n",
    "        return txt.replace('\\t', ' ')\n",
    "    return None\n",
    "\n",
    "def extract_text_from_pdf(pdf_path):\n",
    "    return extract_text(pdf_path)\n",
    "\n",
    "RESUMES_PATH = '/Users/mahpatil/Downloads/resumes/'\n",
    "FILE_TYPE_PDF = '.pdf'\n",
    "FILE_TYPE_DOC = ['.doc']\n",
    "FILE_TYPE_DOCX = ['.docx']\n",
    "\n",
    "files = os.listdir(RESUMES_PATH)\n",
    "def extract_names(txt):\n",
    "    person_names = []\n",
    "\n",
    "    for sent in nltk.sent_tokenize(txt):\n",
    "        for chunk in nltk.ne_chunk(nltk.pos_tag(nltk.word_tokenize(sent))):\n",
    "            if hasattr(chunk, 'label') and chunk.label() == 'PERSON':\n",
    "                person_names.append(\n",
    "                    ' '.join(chunk_leave[0] for chunk_leave in chunk.leaves())\n",
    "                )\n",
    "\n",
    "    return person_names\n",
    "processed = []\n",
    "\n",
    "i = 0\n",
    "for file in files:\n",
    "    fileName,fileExtension = os.path.splitext(file)\n",
    "    if (fileExtension in FILE_TYPE_PDF):\n",
    "        text = extract_text_from_pdf(f'{RESUMES_PATH}{file}')\n",
    "    elif ((fileExtension in FILE_TYPE_DOCX)):\n",
    "        text = extract_text_from_docx(f'{RESUMES_PATH}{file}')\n",
    "    #elif ((fileExtension in FILE_TYPE_DOC)):\n",
    "    #    print(f'*** error ****{file} is a word')\n",
    "    else:\n",
    "        print(f'*** error **** {file} is a neither pdf nor word')\n",
    "        i = i + 1\n",
    "        continue\n",
    "    names = extract_names(text)\n",
    "    item = {\n",
    "        'text' : text,\n",
    "        'names' : names\n",
    "    }\n",
    "    processed.append(item)\n",
    "    print(f'{fileName} \\n names: {names}')\n",
    "    i = i + 1\n",
    "#if __name__ == '__main__':\n",
    "#    print(extract_text_from_pdf('./resume.pdf'))  # noqa: T001\n",
    "#if __name__ == '__main__':\n",
    "#    print(extract_text_from_docx('./resume.docx'))  #\n"
   ]
  },
  {
   "cell_type": "code",
   "execution_count": null,
   "metadata": {},
   "outputs": [],
   "source": [
    "import nltk\n",
    "\n",
    "nltk.download('punkt')\n",
    "nltk.download('averaged_perceptron_tagger')\n",
    "nltk.download('maxent_ne_chunker')\n",
    "nltk.download('words')\n"
   ]
  }
 ]
}