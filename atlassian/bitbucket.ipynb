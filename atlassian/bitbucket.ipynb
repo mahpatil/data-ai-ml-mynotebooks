{
 "metadata": {
  "language_info": {
   "codemirror_mode": {
    "name": "ipython",
    "version": 3
   },
   "file_extension": ".py",
   "mimetype": "text/x-python",
   "name": "python",
   "nbconvert_exporter": "python",
   "pygments_lexer": "ipython3",
   "version": "3.9.1-final"
  },
  "orig_nbformat": 2,
  "kernelspec": {
   "name": "python3",
   "display_name": "Python 3.9.1 64-bit",
   "metadata": {
    "interpreter": {
     "hash": "ac2eaa0ea0ebeafcc7822e65e46aa9d4f966f30b695406963e145ea4a91cd4fc"
    }
   }
  }
 },
 "nbformat": 4,
 "nbformat_minor": 2,
 "cells": [
  {
   "cell_type": "code",
   "execution_count": null,
   "metadata": {},
   "outputs": [],
   "source": [
    "from atlassian.bitbucket.cloud import Cloud\n",
    "import os, json\n",
    "import requests\n",
    "import pandas as pd\n",
    "\n",
    "username = os.getenv('BITBUCKET_USER', None)\n",
    "password = os.getenv('BITBUCKET_PASS', None)\n",
    "url = os.getenv('BITBUCKET_URL', None)\n",
    "workspace = os.getenv('BITBUCKET_WORKSPACE', None)\n",
    "project_key = os.getenv('PROJECT_KEY', None)\n",
    "user_id = os.getenv('USER_ID', None)\n"
   ]
  },
  {
   "cell_type": "code",
   "execution_count": null,
   "metadata": {
    "tags": []
   },
   "outputs": [],
   "source": [
    "\n",
    "headers = {\n",
    "    'Content-Type': 'application/json',\n",
    "}\n",
    "params = (\n",
    "    ('key1', 'mykeyhere'),\n",
    ")\n",
    "url = f'https://api.bitbucket.org/2.0/repositories/{workspace}/?q=project.key=\"{project_key}\"&limit=1000&pagelen=100'\n",
    "\n",
    "\n",
    "def get_repo(repo_name):\n",
    "    url = f'https://api.bitbucket.org/2.0/repositories/{workspace}/{repo_name}'\n",
    "    rsp = requests.get(url,  headers=headers, auth=(username, password))\n",
    "    print(json.dumps(rsp.json(), sort_keys=True, indent=4)) \n",
    "    \n",
    "def get_repo_default_reviewers(repo_name):\n",
    "    url = f'https://api.bitbucket.org/2.0/repositories/{workspace}/{repo_name}/default-reviewers'\n",
    "    rsp = requests.get(url,  headers=headers, auth=(username, password))\n",
    "    print(json.dumps(rsp.json(), sort_keys=True, indent=4)) \n",
    "\n",
    "def put_repo_default_reviewers(repo_name, target_username_uuid):\n",
    "    url = f'https://api.bitbucket.org/2.0/repositories/{workspace}/{repo_name}/default-reviewers/{target_username_uuid}'\n",
    "    print(url)\n",
    "    rsp = requests.put(url, data = { 'target_username':target_username_uuid}, auth=(username, password))\n",
    "    print(f'{rsp.status_code} {rsp.text} {rsp.reason}')\n",
    "\n",
    "def get_repo_branch_restrictions(repo_name):\n",
    "    url = f'https://api.bitbucket.org/2.0/repositories/{workspace}/{repo_name}/branch-restrictions'\n",
    "    print(url)\n",
    "    rsp = requests.get(url,\n",
    "        headers = headers, \n",
    "        auth=(username, password))\n",
    "    print(json.dumps(rsp.json(), sort_keys=True, indent=4)) \n",
    "\n",
    "## to be completed\n",
    "def put_repo_branch_restrictions(repo_name):\n",
    "    url = f'https://api.bitbucket.org/2.0/repositories/{workspace}/{repo_name}/branch-restrictions'\n",
    "    print(url)\n",
    "    rsp = requests.put(url,\n",
    "        data = { 'target_username':target_username_uuid}, \n",
    "        auth=(username, password))\n",
    "    print(f'{rsp.status_code} {rsp.text} {rsp.reason}')\n",
    "\n",
    "def _main():\n",
    "    headers = {'content-type': 'application/json', 'Accept-Charset': 'UTF-8'}\n",
    "    repos_request = requests.get(url,  headers=headers,auth=(username, password))\n",
    "    repos_json = repos_request.json()\n",
    "    df = pd.DataFrame.from_dict(repos_json['values'])\n",
    "\n",
    "    for repo in df['name']:\n",
    "        #get_repo_default_reviewers(repo)\n",
    "        if repo == 'ta-common':\n",
    "            put_repo_default_reviewers(repo, user_id)\n",
    "        if repo == 'ta-dealing-service':\n",
    "            get_repo_branch_restrictions(repo)\n",
    "_main()"
   ]
  },
  {
   "cell_type": "code",
   "execution_count": null,
   "metadata": {
    "tags": []
   },
   "outputs": [],
   "source": [
    "bitbucket = Cloud(\n",
    "    url=url,\n",
    "    username = username,\n",
    "    password = password,\n",
    "    cloud=True)\n",
    "\n",
    "index = 0\n",
    "project = bitbucket.workspaces.get(workspace).projects.get('XLO')\n",
    "\n",
    "for r in project.repositories.each():\n",
    "    print(f\"Repo {r.name}\")\n",
    "    for dr in r.default_reviewers.each():\n",
    "            print(\"   Default reviewer \" + dr.nickname)\n",
    "    for br in r.branch_restrictions.each():\n",
    "        print(br)\n",
    "    \n",
    "#for r in project.repos."
   ]
  },
  {
   "cell_type": "code",
   "execution_count": null,
   "metadata": {},
   "outputs": [],
   "source": [
    "import json\n",
    "from types import SimpleNamespace\n",
    "\n",
    "# Parse JSON into an object with attributes corresponding to dict keys.\n",
    "x = json.loads(r.text, object_hook=lambda d: SimpleNamespace(**d))\n",
    "print(x[0])"
   ]
  },
  {
   "cell_type": "code",
   "execution_count": null,
   "metadata": {},
   "outputs": [],
   "source": []
  }
 ]
}