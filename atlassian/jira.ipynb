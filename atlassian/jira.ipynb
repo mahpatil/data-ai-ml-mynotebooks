{
 "metadata": {
  "language_info": {
   "codemirror_mode": {
    "name": "ipython",
    "version": 3
   },
   "file_extension": ".py",
   "mimetype": "text/x-python",
   "name": "python",
   "nbconvert_exporter": "python",
   "pygments_lexer": "ipython3",
   "version": "3.9.1-final"
  },
  "orig_nbformat": 2,
  "kernelspec": {
   "name": "python3",
   "display_name": "Python 3.9.1 64-bit",
   "metadata": {
    "interpreter": {
     "hash": "aee8b7b246df8f9039afb4144a1f6fd8d2ca17a180786b69acc140d282b71a49"
    }
   }
  }
 },
 "nbformat": 4,
 "nbformat_minor": 2,
 "cells": [
  {
   "cell_type": "code",
   "execution_count": 21,
   "metadata": {},
   "outputs": [],
   "source": [
    "from atlassian import Jira\n",
    "from atlassian import Confluence\n",
    "from atlassian import Bitbucket\n",
    "from atlassian import ServiceDesk\n",
    "from atlassian import Xray\n",
    "import os, json\n",
    "\n",
    "username = os.getenv('ATLASSIAN_USER', None)\n",
    "password = os.getenv('ATLASSIAN_PASS', None)\n",
    "url = os.getenv('ATLASSIAN_URL', None)\n",
    "\n",
    "\n",
    "jira = Jira(\n",
    "    url=url,\n",
    "    username = username,\n",
    "    password = password)\n",
    "\n",
    "confluence = Confluence(\n",
    "    url=url,\n",
    "    username = username,\n",
    "    password = password)"
   ]
  },
  {
   "cell_type": "code",
   "execution_count": 23,
   "metadata": {},
   "outputs": [
    {
     "output_type": "stream",
     "name": "stdout",
     "text": [
      "Projects found 11\nGroups found 12\n{\n    \"groups\": [\n        {\n            \"groupId\": \"2afe0c88-6c18-4a18-8dd4-07c189cf4bd9\",\n            \"html\": \"administrators\",\n            \"labels\": [\n                {\n                    \"text\": \"Admin\",\n                    \"title\": \"Users added to this group will be given administrative access\",\n                    \"type\": \"ADMIN\"\n                },\n                {\n                    \"text\": \"Jira Software\",\n                    \"title\": \"Users added to this group will be given access to <strong>Jira Software</strong>\",\n                    \"type\": \"SINGLE\"\n                }\n            ],\n            \"name\": \"administrators\"\n        },\n        {\n            \"groupId\": \"dc6a5745-b006-46c0-a547-4793e927586f\",\n            \"html\": \"atlassian-addons-admin\",\n            \"labels\": [\n                {\n                    \"text\": \"Admin\",\n                    \"title\": \"Users added to this group will be given administrative access\",\n                    \"type\": \"ADMIN\"\n                },\n                {\n                    \"text\": \"Jira Software\",\n                    \"title\": \"Users added to this group will be given access to <strong>Jira Software</strong>\",\n                    \"type\": \"SINGLE\"\n                }\n            ],\n            \"name\": \"atlassian-addons-admin\"\n        },\n        {\n            \"groupId\": \"30689ffb-2a56-4416-a845-cd569c33554c\",\n            \"html\": \"confluence-users\",\n            \"labels\": [],\n            \"name\": \"confluence-users\"\n        },\n        {\n            \"groupId\": \"4e1d73a5-ae6a-48df-b08b-1d33ebb58fc9\",\n            \"html\": \"dltapps-all\",\n            \"labels\": [],\n            \"name\": \"dltapps-all\"\n        },\n        {\n            \"groupId\": \"e47d864e-7ea1-4721-8d59-2660bc6ffbc0\",\n            \"html\": \"ext-citi-xilo\",\n            \"labels\": [],\n            \"name\": \"ext-citi-xilo\"\n        },\n        {\n            \"groupId\": \"da339d68-e015-4273-9f38-3c58b820b2cf\",\n            \"html\": \"ext-kana\",\n            \"labels\": [],\n            \"name\": \"ext-kana\"\n        },\n        {\n            \"groupId\": \"3db087f3-22e1-4fd4-b0bf-f92cd93b82ea\",\n            \"html\": \"ext-xilo\",\n            \"labels\": [],\n            \"name\": \"ext-xilo\"\n        },\n        {\n            \"groupId\": \"0cd9197f-1930-43ea-a607-957158779bf0\",\n            \"html\": \"jira-administrators\",\n            \"labels\": [\n                {\n                    \"text\": \"Admin\",\n                    \"title\": \"Users added to this group will be given administrative access\",\n                    \"type\": \"ADMIN\"\n                }\n            ],\n            \"name\": \"jira-administrators\"\n        },\n        {\n            \"groupId\": \"f82bb97c-fcda-49b7-8d4f-5e142e6ee723\",\n            \"html\": \"jira-software-users\",\n            \"labels\": [\n                {\n                    \"text\": \"Jira Software\",\n                    \"title\": \"Users added to this group will be given access to <strong>Jira Software</strong>\",\n                    \"type\": \"SINGLE\"\n                }\n            ],\n            \"name\": \"jira-software-users\"\n        },\n        {\n            \"groupId\": \"fb610861-ee19-4a35-8f7f-aff858351663\",\n            \"html\": \"site-admins\",\n            \"labels\": [\n                {\n                    \"text\": \"Admin\",\n                    \"title\": \"Users added to this group will be given administrative access\",\n                    \"type\": \"ADMIN\"\n                },\n                {\n                    \"text\": \"Jira Software\",\n                    \"title\": \"Users added to this group will be given access to <strong>Jira Software</strong>\",\n                    \"type\": \"SINGLE\"\n                }\n            ],\n            \"name\": \"site-admins\"\n        },\n        {\n            \"groupId\": \"d367be81-3543-48f6-8f18-9fe81ceb60a4\",\n            \"html\": \"system-administrators\",\n            \"labels\": [\n                {\n                    \"text\": \"Admin\",\n                    \"title\": \"Users added to this group will be given administrative access\",\n                    \"type\": \"ADMIN\"\n                },\n                {\n                    \"text\": \"Jira Software\",\n                    \"title\": \"Users added to this group will be given access to <strong>Jira Software</strong>\",\n                    \"type\": \"SINGLE\"\n                }\n            ],\n            \"name\": \"system-administrators\"\n        },\n        {\n            \"groupId\": \"9c9c8f82-4a7e-4595-959d-3e4930d8092a\",\n            \"html\": \"trusted-users-69447620-54f3-480b-a993-b66e0280e268\",\n            \"labels\": [\n                {\n                    \"text\": \"Admin\",\n                    \"title\": \"Users added to this group will be given administrative access\",\n                    \"type\": \"ADMIN\"\n                },\n                {\n                    \"text\": \"Jira Software\",\n                    \"title\": \"Users added to this group will be given access to <strong>Jira Software</strong>\",\n                    \"type\": \"SINGLE\"\n                }\n            ],\n            \"name\": \"trusted-users-69447620-54f3-480b-a993-b66e0280e268\"\n        }\n    ],\n    \"header\": \"Showing 12 of 12 matching groups\",\n    \"total\": 12\n}\n"
     ]
    }
   ],
   "source": [
    "\n",
    "projects = jira.projects(included_archived=None)\n",
    "groups = jira.get_groups()\n",
    "\n",
    "print(f\"Projects found {len(projects)}\")\n",
    "print(f\"Groups found {len(groups['groups'])}\")\n",
    "print(json.dumps(groups, sort_keys=True, indent=4))\n"
   ]
  },
  {
   "cell_type": "code",
   "execution_count": 20,
   "metadata": {},
   "outputs": [
    {
     "output_type": "execute_result",
     "data": {
      "text/plain": [
       "{'result': True}"
      ]
     },
     "metadata": {},
     "execution_count": 20
    }
   ],
   "source": [
    "from opa_client.opa import OpaClient\n",
    "opa_client = OpaClient() # default host='localhost', port=8181, version='v1'\n",
    "opa_client.check_connection()\n",
    "test_policy = \"\"\"\n",
    "package play\n",
    "import data.testapi.testdata\n",
    "default hello = false\n",
    "\n",
    "hello {\n",
    "   m := input.message\n",
    "   testdata[i] == m\n",
    "}\n",
    "\"\"\"\n",
    "opa_client.update_opa_policy_fromstring(test_policy, \"testpolicy\")\n",
    "\n",
    "opa_client.get_policies_list()\n",
    "data = [\"world\", \"hello\"]\n",
    "opa_client.update_or_create_opa_data(data, \"testapi/testdata\")\n",
    "check_data = {\"input\": {\"message\": \"hello\"}}\n",
    "opa_client.check_permission(input_data=check_data, policy_name=\"testpolicy\", rule_name=\"hello\")\n"
   ]
  },
  {
   "cell_type": "code",
   "execution_count": null,
   "metadata": {},
   "outputs": [],
   "source": [
    "\n",
    "\n",
    "spaces = confluence.get_all_spaces(start=0, limit=500, expand=None)\n",
    "groups = confluence.get_all_groups()\n",
    "\n",
    "print(f\"Spaces found {len(spaces)}\")\n",
    "print(f\"Groups found {len(groups)}\")\n",
    "print(groups)"
   ]
  },
  {
   "cell_type": "code",
   "execution_count": null,
   "metadata": {},
   "outputs": [],
   "source": []
  }
 ]
}