{
 "metadata": {
  "language_info": {
   "codemirror_mode": {
    "name": "ipython",
    "version": 3
   },
   "file_extension": ".py",
   "mimetype": "text/x-python",
   "name": "python",
   "nbconvert_exporter": "python",
   "pygments_lexer": "ipython3",
   "version": "3.9.1-final"
  },
  "orig_nbformat": 2,
  "kernelspec": {
   "name": "python3",
   "display_name": "Python 3.9.1 64-bit",
   "metadata": {
    "interpreter": {
     "hash": "ac2eaa0ea0ebeafcc7822e65e46aa9d4f966f30b695406963e145ea4a91cd4fc"
    }
   }
  }
 },
 "nbformat": 4,
 "nbformat_minor": 2,
 "cells": [
  {
   "cell_type": "code",
   "execution_count": null,
   "metadata": {},
   "outputs": [],
   "source": [
    "from atlassian import Jira\n",
    "from atlassian import Confluence\n",
    "from atlassian import Bitbucket\n",
    "from atlassian import ServiceDesk\n",
    "from atlassian import Xray\n",
    "import os, json\n",
    "\n",
    "username = os.getenv('ATLASSIAN_USER', None)\n",
    "password = os.getenv('ATLASSIAN_PASS', None)\n",
    "url = os.getenv('ATLASSIAN_URL', None)\n",
    "\n",
    "jira = Jira(\n",
    "    url=url,\n",
    "    username = username,\n",
    "    password = password)\n",
    "\n",
    "confluence = Confluence(\n",
    "    url=url,\n",
    "    username = username,\n",
    "    password = password)"
   ]
  },
  {
   "cell_type": "code",
   "execution_count": null,
   "metadata": {},
   "outputs": [],
   "source": [
    "\n",
    "projects = jira.projects(included_archived=None)\n",
    "groups = jira.get_groups()\n",
    "\n",
    "print(f\"Projects found {len(projects)}\")\n",
    "print(f\"Groups found {len(groups['groups'])}\")\n",
    "print(json.dumps(groups, sort_keys=True, indent=4))\n"
   ]
  },
  {
   "cell_type": "code",
   "execution_count": null,
   "metadata": {},
   "outputs": [],
   "source": [
    "from opa_client.opa import OpaClient\n",
    "opa_client = OpaClient() # default host='localhost', port=8181, version='v1'\n",
    "opa_client.check_connection()\n",
    "test_policy = \"\"\"\n",
    "package play\n",
    "import data.testapi.testdata\n",
    "default hello = false\n",
    "\n",
    "hello {\n",
    "   m := input.message\n",
    "   testdata[i] == m\n",
    "}\n",
    "\"\"\"\n",
    "opa_client.update_opa_policy_fromstring(test_policy, \"testpolicy\")\n",
    "\n",
    "opa_client.get_policies_list()\n",
    "data = [\"world\", \"hello\"]\n",
    "opa_client.update_or_create_opa_data(data, \"testapi/testdata\")\n",
    "check_data = {\"input\": {\"message\": \"hello\"}}\n",
    "opa_client.check_permission(input_data=check_data, policy_name=\"testpolicy\", rule_name=\"hello\")\n"
   ]
  },
  {
   "cell_type": "code",
   "execution_count": null,
   "metadata": {},
   "outputs": [],
   "source": [
    "\n",
    "\n",
    "spaces = confluence.get_all_spaces(start=0, limit=500, expand=None)\n",
    "groups = confluence.get_all_groups()\n",
    "\n",
    "print(f\"Spaces found {len(spaces)}\")\n",
    "print(f\"Groups found {len(groups)}\")\n",
    "print(groups)"
   ]
  },
  {
   "cell_type": "code",
   "execution_count": null,
   "metadata": {},
   "outputs": [],
   "source": []
  }
 ]
}