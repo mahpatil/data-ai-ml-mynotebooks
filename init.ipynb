{
 "cells": [
  {
   "cell_type": "code",
   "execution_count": 4,
   "metadata": {},
   "outputs": [
    {
     "output_type": "stream",
     "name": "stdout",
     "text": "Requirement already satisfied: pandas in /usr/local/lib/python3.7/site-packages (1.0.3)\nRequirement already satisfied: numpy>=1.13.3 in /usr/local/lib/python3.7/site-packages (from pandas) (1.18.4)\nRequirement already satisfied: python-dateutil>=2.6.1 in /Users/mahpatil/Library/Python/3.7/lib/python/site-packages (from pandas) (2.8.1)\nRequirement already satisfied: pytz>=2017.2 in /usr/local/lib/python3.7/site-packages (from pandas) (2019.3)\nRequirement already satisfied: six>=1.5 in /usr/local/lib/python3.7/site-packages (from python-dateutil>=2.6.1->pandas) (1.14.0)\nCollecting google.cloud\n  Using cached google_cloud-0.34.0-py2.py3-none-any.whl (1.8 kB)\nInstalling collected packages: google.cloud\nSuccessfully installed google.cloud\nRequirement already satisfied: matplotlib in /usr/local/lib/python3.7/site-packages (3.2.1)\nRequirement already satisfied: kiwisolver>=1.0.1 in /usr/local/lib/python3.7/site-packages (from matplotlib) (1.2.0)\nRequirement already satisfied: numpy>=1.11 in /usr/local/lib/python3.7/site-packages (from matplotlib) (1.18.4)\nRequirement already satisfied: cycler>=0.10 in /usr/local/lib/python3.7/site-packages (from matplotlib) (0.10.0)\nRequirement already satisfied: python-dateutil>=2.1 in /Users/mahpatil/Library/Python/3.7/lib/python/site-packages (from matplotlib) (2.8.1)\nRequirement already satisfied: pyparsing!=2.0.4,!=2.1.2,!=2.1.6,>=2.0.1 in /Users/mahpatil/Library/Python/3.7/lib/python/site-packages (from matplotlib) (2.4.7)\nRequirement already satisfied: six in /usr/local/lib/python3.7/site-packages (from cycler>=0.10->matplotlib) (1.14.0)\nCollecting pandas_datareader\n  Using cached pandas_datareader-0.8.1-py2.py3-none-any.whl (107 kB)\nRequirement already satisfied: pandas>=0.21 in /usr/local/lib/python3.7/site-packages (from pandas_datareader) (1.0.3)\nCollecting lxml\n  Downloading lxml-4.5.1-cp37-cp37m-macosx_10_9_x86_64.whl (4.4 MB)\n\u001b[K     |████████████████████████████████| 4.4 MB 3.4 MB/s \n\u001b[?25hRequirement already satisfied: requests>=2.3.0 in /usr/local/lib/python3.7/site-packages (from pandas_datareader) (2.23.0)\nRequirement already satisfied: numpy>=1.13.3 in /usr/local/lib/python3.7/site-packages (from pandas>=0.21->pandas_datareader) (1.18.4)\nRequirement already satisfied: pytz>=2017.2 in /usr/local/lib/python3.7/site-packages (from pandas>=0.21->pandas_datareader) (2019.3)\nRequirement already satisfied: python-dateutil>=2.6.1 in /Users/mahpatil/Library/Python/3.7/lib/python/site-packages (from pandas>=0.21->pandas_datareader) (2.8.1)\nRequirement already satisfied: certifi>=2017.4.17 in /usr/local/lib/python3.7/site-packages (from requests>=2.3.0->pandas_datareader) (2019.11.28)\nRequirement already satisfied: chardet<4,>=3.0.2 in /usr/local/lib/python3.7/site-packages (from requests>=2.3.0->pandas_datareader) (3.0.4)\nRequirement already satisfied: urllib3!=1.25.0,!=1.25.1,<1.26,>=1.21.1 in /usr/local/lib/python3.7/site-packages (from requests>=2.3.0->pandas_datareader) (1.25.8)\nRequirement already satisfied: idna<3,>=2.5 in /usr/local/lib/python3.7/site-packages (from requests>=2.3.0->pandas_datareader) (2.9)\nRequirement already satisfied: six>=1.5 in /usr/local/lib/python3.7/site-packages (from python-dateutil>=2.6.1->pandas>=0.21->pandas_datareader) (1.14.0)\nInstalling collected packages: lxml, pandas-datareader\nSuccessfully installed lxml-4.5.1 pandas-datareader-0.8.1\n"
    }
   ],
   "source": [
    "import sys\n",
    "!{sys.executable} -m pip install pandas\n",
    "!{sys.executable} -m pip install google.cloud\n",
    "!{sys.executable} -m pip install matplotlib\n",
    "!{sys.executable} -m pip install pandas_datareader\n",
    "!{sys.executable} -m pip install seaborn\n",
    "!{sys.executable} -m pip install import-ipynb\n",
    "!{sys.executable} -m pip install plotly\n",
    "!{sys.executable} -m pip install xlrd\n",
    "!{sys.executable} -m pip install sklearn"
   ]
  },
  {
   "cell_type": "code",
   "execution_count": 3,
   "metadata": {},
   "outputs": [
    {
     "output_type": "stream",
     "name": "stdout",
     "text": "\u001b[33mWARNING: Skipping pandas-datareader as it is not installed.\u001b[0m\n"
    }
   ],
   "source": [
    "!{sys.executable} -m pip uninstall pandas_datareader"
   ]
  },
  {
   "cell_type": "code",
   "execution_count": 1,
   "metadata": {},
   "outputs": [
    {
     "output_type": "stream",
     "name": "stdout",
     "text": "Collecting sklearn\n  Downloading sklearn-0.0.tar.gz (1.1 kB)\nCollecting scikit-learn\n  Downloading scikit_learn-0.23.1-cp37-cp37m-macosx_10_9_x86_64.whl (7.2 MB)\n\u001b[K     |████████████████████████████████| 7.2 MB 3.6 MB/s \n\u001b[?25hRequirement already satisfied: numpy>=1.13.3 in /usr/local/lib/python3.7/site-packages (from scikit-learn->sklearn) (1.18.4)\nCollecting joblib>=0.11\n  Downloading joblib-0.15.1-py3-none-any.whl (298 kB)\n\u001b[K     |████████████████████████████████| 298 kB 8.5 MB/s \n\u001b[?25hCollecting threadpoolctl>=2.0.0\n  Downloading threadpoolctl-2.1.0-py3-none-any.whl (12 kB)\nRequirement already satisfied: scipy>=0.19.1 in /usr/local/lib/python3.7/site-packages (from scikit-learn->sklearn) (1.4.1)\nBuilding wheels for collected packages: sklearn\n  Building wheel for sklearn (setup.py) ... \u001b[?25ldone\n\u001b[?25h  Created wheel for sklearn: filename=sklearn-0.0-py2.py3-none-any.whl size=1315 sha256=991115dc8bacff72a74f9960f8085cebe2a268faeeefb056ad6c2ae85e4820a9\n  Stored in directory: /Users/mahpatil/Library/Caches/pip/wheels/46/ef/c3/157e41f5ee1372d1be90b09f74f82b10e391eaacca8f22d33e\nSuccessfully built sklearn\nInstalling collected packages: joblib, threadpoolctl, scikit-learn, sklearn\nSuccessfully installed joblib-0.15.1 scikit-learn-0.23.1 sklearn-0.0 threadpoolctl-2.1.0\n"
    }
   ],
   "source": []
  },
  {
   "cell_type": "code",
   "execution_count": null,
   "metadata": {},
   "outputs": [],
   "source": []
  }
 ],
 "metadata": {
  "kernelspec": {
   "display_name": "Python 3",
   "language": "python",
   "name": "python3"
  },
  "language_info": {
   "codemirror_mode": {
    "name": "ipython",
    "version": 3
   },
   "file_extension": ".py",
   "mimetype": "text/x-python",
   "name": "python",
   "nbconvert_exporter": "python",
   "pygments_lexer": "ipython3",
   "version": "3.7.7-final"
  }
 },
 "nbformat": 4,
 "nbformat_minor": 4
}