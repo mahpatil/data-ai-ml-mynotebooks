{
 "cells": [
  {
   "cell_type": "code",
   "execution_count": 1,
   "metadata": {},
   "outputs": [
    {
     "output_type": "stream",
     "name": "stdout",
     "text": [
      "Requirement already satisfied: pandas in /usr/local/lib/python3.9/site-packages (1.2.3)\n",
      "Requirement already satisfied: python-dateutil>=2.7.3 in /Users/mahpatil/Library/Python/3.9/lib/python/site-packages (from pandas) (2.8.1)\n",
      "Requirement already satisfied: numpy>=1.16.5 in /usr/local/lib/python3.9/site-packages (from pandas) (1.20.1)\n",
      "Requirement already satisfied: pytz>=2017.3 in /usr/local/lib/python3.9/site-packages (from pandas) (2021.1)\n",
      "Requirement already satisfied: six>=1.5 in /Users/mahpatil/Library/Python/3.9/lib/python/site-packages (from python-dateutil>=2.7.3->pandas) (1.15.0)\n",
      "Requirement already satisfied: google.cloud in /usr/local/lib/python3.9/site-packages (0.34.0)\n",
      "Requirement already satisfied: matplotlib in /usr/local/lib/python3.9/site-packages (3.3.4)\n",
      "Requirement already satisfied: kiwisolver>=1.0.1 in /usr/local/lib/python3.9/site-packages (from matplotlib) (1.3.1)\n",
      "Requirement already satisfied: pyparsing!=2.0.4,!=2.1.2,!=2.1.6,>=2.0.3 in /usr/local/lib/python3.9/site-packages (from matplotlib) (2.4.7)\n",
      "Requirement already satisfied: numpy>=1.15 in /usr/local/lib/python3.9/site-packages (from matplotlib) (1.20.1)\n",
      "Requirement already satisfied: python-dateutil>=2.1 in /Users/mahpatil/Library/Python/3.9/lib/python/site-packages (from matplotlib) (2.8.1)\n",
      "Requirement already satisfied: pillow>=6.2.0 in /usr/local/lib/python3.9/site-packages (from matplotlib) (8.1.2)\n",
      "Requirement already satisfied: cycler>=0.10 in /usr/local/lib/python3.9/site-packages (from matplotlib) (0.10.0)\n",
      "Requirement already satisfied: six in /Users/mahpatil/Library/Python/3.9/lib/python/site-packages (from cycler>=0.10->matplotlib) (1.15.0)\n",
      "Requirement already satisfied: pandas_datareader in /usr/local/lib/python3.9/site-packages (0.9.0)\n",
      "Requirement already satisfied: lxml in /usr/local/lib/python3.9/site-packages (from pandas_datareader) (4.6.2)\n",
      "Requirement already satisfied: requests>=2.19.0 in /usr/local/lib/python3.9/site-packages (from pandas_datareader) (2.25.1)\n",
      "Requirement already satisfied: pandas>=0.23 in /usr/local/lib/python3.9/site-packages (from pandas_datareader) (1.2.3)\n",
      "Requirement already satisfied: numpy>=1.16.5 in /usr/local/lib/python3.9/site-packages (from pandas>=0.23->pandas_datareader) (1.20.1)\n",
      "Requirement already satisfied: pytz>=2017.3 in /usr/local/lib/python3.9/site-packages (from pandas>=0.23->pandas_datareader) (2021.1)\n",
      "Requirement already satisfied: python-dateutil>=2.7.3 in /Users/mahpatil/Library/Python/3.9/lib/python/site-packages (from pandas>=0.23->pandas_datareader) (2.8.1)\n",
      "Requirement already satisfied: six>=1.5 in /Users/mahpatil/Library/Python/3.9/lib/python/site-packages (from python-dateutil>=2.7.3->pandas>=0.23->pandas_datareader) (1.15.0)\n",
      "Requirement already satisfied: certifi>=2017.4.17 in /usr/local/lib/python3.9/site-packages (from requests>=2.19.0->pandas_datareader) (2020.12.5)\n",
      "Requirement already satisfied: urllib3<1.27,>=1.21.1 in /usr/local/lib/python3.9/site-packages (from requests>=2.19.0->pandas_datareader) (1.26.2)\n",
      "Requirement already satisfied: idna<3,>=2.5 in /usr/local/lib/python3.9/site-packages (from requests>=2.19.0->pandas_datareader) (2.10)\n",
      "Requirement already satisfied: chardet<5,>=3.0.2 in /usr/local/lib/python3.9/site-packages (from requests>=2.19.0->pandas_datareader) (4.0.0)\n",
      "Requirement already satisfied: seaborn in /usr/local/lib/python3.9/site-packages (0.11.1)\n",
      "Requirement already satisfied: pandas>=0.23 in /usr/local/lib/python3.9/site-packages (from seaborn) (1.2.3)\n",
      "Requirement already satisfied: scipy>=1.0 in /usr/local/lib/python3.9/site-packages (from seaborn) (1.6.1)\n",
      "Requirement already satisfied: matplotlib>=2.2 in /usr/local/lib/python3.9/site-packages (from seaborn) (3.3.4)\n",
      "Requirement already satisfied: numpy>=1.15 in /usr/local/lib/python3.9/site-packages (from seaborn) (1.20.1)\n",
      "Requirement already satisfied: pyparsing!=2.0.4,!=2.1.2,!=2.1.6,>=2.0.3 in /usr/local/lib/python3.9/site-packages (from matplotlib>=2.2->seaborn) (2.4.7)\n",
      "Requirement already satisfied: python-dateutil>=2.1 in /Users/mahpatil/Library/Python/3.9/lib/python/site-packages (from matplotlib>=2.2->seaborn) (2.8.1)\n",
      "Requirement already satisfied: pillow>=6.2.0 in /usr/local/lib/python3.9/site-packages (from matplotlib>=2.2->seaborn) (8.1.2)\n",
      "Requirement already satisfied: kiwisolver>=1.0.1 in /usr/local/lib/python3.9/site-packages (from matplotlib>=2.2->seaborn) (1.3.1)\n",
      "Requirement already satisfied: cycler>=0.10 in /usr/local/lib/python3.9/site-packages (from matplotlib>=2.2->seaborn) (0.10.0)\n",
      "Requirement already satisfied: six in /Users/mahpatil/Library/Python/3.9/lib/python/site-packages (from cycler>=0.10->matplotlib>=2.2->seaborn) (1.15.0)\n",
      "Requirement already satisfied: pytz>=2017.3 in /usr/local/lib/python3.9/site-packages (from pandas>=0.23->seaborn) (2021.1)\n",
      "Requirement already satisfied: import-ipynb in /usr/local/lib/python3.9/site-packages (0.1.3)\n",
      "Requirement already satisfied: plotly in /usr/local/lib/python3.9/site-packages (4.14.3)\n",
      "Requirement already satisfied: retrying>=1.3.3 in /usr/local/lib/python3.9/site-packages (from plotly) (1.3.3)\n",
      "Requirement already satisfied: six in /Users/mahpatil/Library/Python/3.9/lib/python/site-packages (from plotly) (1.15.0)\n",
      "Requirement already satisfied: xlrd in /usr/local/lib/python3.9/site-packages (2.0.1)\n",
      "Requirement already satisfied: sklearn in /usr/local/lib/python3.9/site-packages (0.0)\n",
      "Requirement already satisfied: scikit-learn in /usr/local/lib/python3.9/site-packages (from sklearn) (0.24.1)\n",
      "Requirement already satisfied: numpy>=1.13.3 in /usr/local/lib/python3.9/site-packages (from scikit-learn->sklearn) (1.20.1)\n",
      "Requirement already satisfied: threadpoolctl>=2.0.0 in /usr/local/lib/python3.9/site-packages (from scikit-learn->sklearn) (2.1.0)\n",
      "Requirement already satisfied: scipy>=0.19.1 in /usr/local/lib/python3.9/site-packages (from scikit-learn->sklearn) (1.6.1)\n",
      "Requirement already satisfied: joblib>=0.11 in /usr/local/lib/python3.9/site-packages (from scikit-learn->sklearn) (1.0.1)\n",
      "Collecting openpyxl\n",
      "  Downloading openpyxl-3.0.7-py2.py3-none-any.whl (243 kB)\n",
      "\u001b[K     |████████████████████████████████| 243 kB 5.7 MB/s \n",
      "\u001b[?25hCollecting et-xmlfile\n",
      "  Downloading et_xmlfile-1.0.1.tar.gz (8.4 kB)\n",
      "Building wheels for collected packages: et-xmlfile\n",
      "  Building wheel for et-xmlfile (setup.py) ... \u001b[?25ldone\n",
      "\u001b[?25h  Created wheel for et-xmlfile: filename=et_xmlfile-1.0.1-py3-none-any.whl size=8913 sha256=b7475af2dae521cfebf0fc1c9c3df10fa0f38e4715859ab0d4d9fe5bee601252\n",
      "  Stored in directory: /Users/mahpatil/Library/Caches/pip/wheels/bb/9b/ff/8fdf015c95a57224237bf88fbb9e45237cbe8177213bc13732\n",
      "Successfully built et-xmlfile\n",
      "Installing collected packages: et-xmlfile, openpyxl\n",
      "Successfully installed et-xmlfile-1.0.1 openpyxl-3.0.7\n"
     ]
    }
   ],
   "source": [
    "import sys\n",
    "!{sys.executable} -m pip install pandas\n",
    "!{sys.executable} -m pip install google.cloud\n",
    "!{sys.executable} -m pip install matplotlib\n",
    "!{sys.executable} -m pip install pandas_datareader\n",
    "!{sys.executable} -m pip install seaborn\n",
    "!{sys.executable} -m pip install import-ipynb\n",
    "!{sys.executable} -m pip install plotly\n",
    "!{sys.executable} -m pip install xlrd\n",
    "!{sys.executable} -m pip install sklearn\n",
    "!{sys.executable} -m pip install openpyxl\n",
    "#!{sys.executable} -m pip uninstall pandas_datareader"
   ]
  },
  {
   "cell_type": "code",
   "execution_count": 3,
   "metadata": {},
   "outputs": [
    {
     "output_type": "stream",
     "name": "stdout",
     "text": [
      "Requirement already satisfied: ipynb in /usr/local/lib/python3.9/site-packages (0.5.1)\n",
      "Requirement already satisfied: nbimporter in /usr/local/lib/python3.9/site-packages (0.3.4)\n",
      "Requirement already satisfied: import-ipynb in /usr/local/lib/python3.9/site-packages (0.1.3)\n",
      "Collecting nbformat\n",
      "  Downloading nbformat-5.1.2-py3-none-any.whl (113 kB)\n",
      "\u001b[K     |████████████████████████████████| 113 kB 4.7 MB/s \n",
      "\u001b[?25hRequirement already satisfied: ipython-genutils in /Users/mahpatil/Library/Python/3.9/lib/python/site-packages (from nbformat) (0.2.0)\n",
      "Requirement already satisfied: jupyter-core in /Users/mahpatil/Library/Python/3.9/lib/python/site-packages (from nbformat) (4.7.0)\n",
      "Collecting jsonschema!=2.5.0,>=2.4\n",
      "  Using cached jsonschema-3.2.0-py2.py3-none-any.whl (56 kB)\n",
      "Requirement already satisfied: traitlets>=4.1 in /Users/mahpatil/Library/Python/3.9/lib/python/site-packages (from nbformat) (5.0.5)\n",
      "Collecting pyrsistent>=0.14.0\n",
      "  Downloading pyrsistent-0.17.3.tar.gz (106 kB)\n",
      "\u001b[K     |████████████████████████████████| 106 kB 4.6 MB/s \n",
      "\u001b[?25hRequirement already satisfied: six>=1.11.0 in /Users/mahpatil/Library/Python/3.9/lib/python/site-packages (from jsonschema!=2.5.0,>=2.4->nbformat) (1.15.0)\n",
      "Requirement already satisfied: setuptools in /usr/local/lib/python3.9/site-packages (from jsonschema!=2.5.0,>=2.4->nbformat) (52.0.0)\n",
      "Requirement already satisfied: attrs>=17.4.0 in /usr/local/lib/python3.9/site-packages (from jsonschema!=2.5.0,>=2.4->nbformat) (20.3.0)\n",
      "Building wheels for collected packages: pyrsistent\n",
      "  Building wheel for pyrsistent (setup.py) ... \u001b[?25ldone\n",
      "\u001b[?25h  Created wheel for pyrsistent: filename=pyrsistent-0.17.3-cp39-cp39-macosx_10_14_x86_64.whl size=68250 sha256=7a5ea50bfe86e66632dbb7577ffda680122f6a31f31b474599dd0bcd406c3bc0\n",
      "  Stored in directory: /Users/mahpatil/Library/Caches/pip/wheels/00/cc/12/e712d3979a4aeee423b34a832d97c803e1a67659060315a7e0\n",
      "Successfully built pyrsistent\n",
      "Installing collected packages: pyrsistent, jsonschema, nbformat\n",
      "Successfully installed jsonschema-3.2.0 nbformat-5.1.2 pyrsistent-0.17.3\n"
     ]
    }
   ],
   "source": [
    "!{sys.executable} -m pip install ipynb\n",
    "!{sys.executable} -m pip install nbimporter\n",
    "!{sys.executable} -m pip install import-ipynb\n",
    "!{sys.executable} -m pip install nbformat"
   ]
  },
  {
   "cell_type": "code",
   "execution_count": 1,
   "metadata": {},
   "outputs": [
    {
     "output_type": "stream",
     "name": "stdout",
     "text": "Collecting sklearn\n  Downloading sklearn-0.0.tar.gz (1.1 kB)\nCollecting scikit-learn\n  Downloading scikit_learn-0.23.1-cp37-cp37m-macosx_10_9_x86_64.whl (7.2 MB)\n\u001b[K     |████████████████████████████████| 7.2 MB 3.6 MB/s \n\u001b[?25hRequirement already satisfied: numpy>=1.13.3 in /usr/local/lib/python3.7/site-packages (from scikit-learn->sklearn) (1.18.4)\nCollecting joblib>=0.11\n  Downloading joblib-0.15.1-py3-none-any.whl (298 kB)\n\u001b[K     |████████████████████████████████| 298 kB 8.5 MB/s \n\u001b[?25hCollecting threadpoolctl>=2.0.0\n  Downloading threadpoolctl-2.1.0-py3-none-any.whl (12 kB)\nRequirement already satisfied: scipy>=0.19.1 in /usr/local/lib/python3.7/site-packages (from scikit-learn->sklearn) (1.4.1)\nBuilding wheels for collected packages: sklearn\n  Building wheel for sklearn (setup.py) ... \u001b[?25ldone\n\u001b[?25h  Created wheel for sklearn: filename=sklearn-0.0-py2.py3-none-any.whl size=1315 sha256=991115dc8bacff72a74f9960f8085cebe2a268faeeefb056ad6c2ae85e4820a9\n  Stored in directory: /Users/mahpatil/Library/Caches/pip/wheels/46/ef/c3/157e41f5ee1372d1be90b09f74f82b10e391eaacca8f22d33e\nSuccessfully built sklearn\nInstalling collected packages: joblib, threadpoolctl, scikit-learn, sklearn\nSuccessfully installed joblib-0.15.1 scikit-learn-0.23.1 sklearn-0.0 threadpoolctl-2.1.0\n"
    }
   ],
   "source": []
  },
  {
   "cell_type": "code",
   "execution_count": 1,
   "metadata": {},
   "outputs": [
    {
     "output_type": "stream",
     "name": "stdout",
     "text": [
      "Requirement already satisfied: selenium in /usr/local/lib/python3.9/site-packages (3.141.0)\n",
      "Requirement already satisfied: xlwt in /usr/local/lib/python3.9/site-packages (1.3.0)\n",
      "Requirement already satisfied: urllib3 in /usr/local/lib/python3.9/site-packages (from selenium) (1.26.2)\n",
      "Note: you may need to restart the kernel to use updated packages.\n"
     ]
    }
   ],
   "source": [
    "!{sys.executable} -m pip install selenium xlwt\n"
   ]
  },
  {
   "cell_type": "code",
   "execution_count": 4,
   "metadata": {},
   "outputs": [
    {
     "output_type": "stream",
     "name": "stdout",
     "text": [
      "Requirement already satisfied: pdfminer.six in /usr/local/lib/python3.9/site-packages (20201018)\n",
      "Requirement already satisfied: chardet in /usr/local/lib/python3.9/site-packages (from pdfminer.six) (4.0.0)\n",
      "Requirement already satisfied: cryptography in /usr/local/lib/python3.9/site-packages (from pdfminer.six) (3.2.1)\n",
      "Requirement already satisfied: sortedcontainers in /usr/local/lib/python3.9/site-packages (from pdfminer.six) (2.3.0)\n",
      "Requirement already satisfied: cffi!=1.11.3,>=1.8 in /usr/local/lib/python3.9/site-packages (from cryptography->pdfminer.six) (1.14.4)\n",
      "Requirement already satisfied: six>=1.4.1 in /Users/mahpatil/Library/Python/3.9/lib/python/site-packages (from cryptography->pdfminer.six) (1.15.0)\n",
      "Requirement already satisfied: pycparser in /usr/local/lib/python3.9/site-packages (from cffi!=1.11.3,>=1.8->cryptography->pdfminer.six) (2.20)\n",
      "Requirement already satisfied: docx2txt in /usr/local/lib/python3.9/site-packages (0.8)\n",
      "Collecting nltk\n",
      "  Downloading nltk-3.5.zip (1.4 MB)\n",
      "\u001b[K     |████████████████████████████████| 1.4 MB 5.3 MB/s \n",
      "\u001b[?25hRequirement already satisfied: click in /usr/local/lib/python3.9/site-packages (from nltk) (7.1.2)\n",
      "Collecting joblib\n",
      "  Downloading joblib-1.0.1-py3-none-any.whl (303 kB)\n",
      "\u001b[K     |████████████████████████████████| 303 kB 7.8 MB/s \n",
      "\u001b[?25hCollecting regex\n",
      "  Downloading regex-2020.11.13-cp39-cp39-macosx_10_9_x86_64.whl (284 kB)\n",
      "\u001b[K     |████████████████████████████████| 284 kB 9.0 MB/s \n",
      "\u001b[?25hCollecting tqdm\n",
      "  Downloading tqdm-4.59.0-py2.py3-none-any.whl (74 kB)\n",
      "\u001b[K     |████████████████████████████████| 74 kB 5.9 MB/s \n",
      "\u001b[?25hBuilding wheels for collected packages: nltk\n",
      "  Building wheel for nltk (setup.py) ... \u001b[?25ldone\n",
      "\u001b[?25h  Created wheel for nltk: filename=nltk-3.5-py3-none-any.whl size=1434676 sha256=00ddb8d973fbb7dc8072c28090970615add62558e6f201d58e3ef0ee368b03dd\n",
      "  Stored in directory: /Users/mahpatil/Library/Caches/pip/wheels/13/ae/bb/5e2a232ebaa1d2f38dd5f587e9fc4cf6ccb12758d14dac14d8\n",
      "Successfully built nltk\n",
      "Installing collected packages: tqdm, regex, joblib, nltk\n",
      "Successfully installed joblib-1.0.1 nltk-3.5 regex-2020.11.13 tqdm-4.59.0\n",
      "Collecting numpy\n",
      "  Downloading numpy-1.20.1-cp39-cp39-macosx_10_9_x86_64.whl (16.1 MB)\n",
      "\u001b[K     |████████████████████████████████| 16.1 MB 7.8 MB/s \n",
      "\u001b[?25hInstalling collected packages: numpy\n",
      "Successfully installed numpy-1.20.1\n"
     ]
    }
   ],
   "source": [
    "## resume screener\n",
    "!{sys.executable} -m pip install pdfminer.six\n",
    "!{sys.executable} -m pip install docx2txt\n",
    "!{sys.executable} -m pip install nltk\n",
    "!{sys.executable} -m pip install numpy # (also required by nltk, for running the following code)"
   ]
  },
  {
   "cell_type": "code",
   "execution_count": null,
   "metadata": {},
   "outputs": [],
   "source": [
    "!{sys.executable} -m pip install selenium xlwt\n",
    "\n",
    "## resume screener\n",
    "!{sys.executable} -m pip install pdfminer.six\n",
    "!{sys.executable} -m pip install docx2txt\n",
    "!{sys.executable} -m pip install nltk\n",
    "!{sys.executable} -m pip install numpy # (also required by nltk, for running the following code)\n"
   ]
  },
  {
   "cell_type": "code",
   "execution_count": null,
   "metadata": {},
   "outputs": [],
   "source": []
  }
 ],
 "metadata": {
  "kernelspec": {
   "name": "python3",
   "display_name": "Python 3.9.1 64-bit",
   "metadata": {
    "interpreter": {
     "hash": "ac2eaa0ea0ebeafcc7822e65e46aa9d4f966f30b695406963e145ea4a91cd4fc"
    }
   }
  },
  "language_info": {
   "codemirror_mode": {
    "name": "ipython",
    "version": 3
   },
   "file_extension": ".py",
   "mimetype": "text/x-python",
   "name": "python",
   "nbconvert_exporter": "python",
   "pygments_lexer": "ipython3",
   "version": "3.9.1-final"
  }
 },
 "nbformat": 4,
 "nbformat_minor": 4
}