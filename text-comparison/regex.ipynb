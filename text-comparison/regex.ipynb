{
 "metadata": {
  "language_info": {
   "codemirror_mode": {
    "name": "ipython",
    "version": 3
   },
   "file_extension": ".py",
   "mimetype": "text/x-python",
   "name": "python",
   "nbconvert_exporter": "python",
   "pygments_lexer": "ipython3",
   "version": "3.9.1"
  },
  "orig_nbformat": 2,
  "kernelspec": {
   "name": "python3",
   "display_name": "Python 3.9.1 64-bit",
   "metadata": {
    "interpreter": {
     "hash": "ac2eaa0ea0ebeafcc7822e65e46aa9d4f966f30b695406963e145ea4a91cd4fc"
    }
   }
  }
 },
 "nbformat": 4,
 "nbformat_minor": 2,
 "cells": [
  {
   "cell_type": "code",
   "execution_count": 3,
   "metadata": {},
   "outputs": [
    {
     "output_type": "stream",
     "name": "stdout",
     "text": [
      "[('May', 'May', '', '2018')]\n"
     ]
    }
   ],
   "source": [
    "import re\n",
    "REG = re.compile('(?P<month>([a-zA-Z]+)|(\\d{2}))\\s+(?P<year>\\d{4})')\n",
    "numbers = re.findall(REG, \"May 2018\")\n",
    "print(numbers)\n"
   ]
  },
  {
   "cell_type": "code",
   "execution_count": 34,
   "metadata": {},
   "outputs": [
    {
     "output_type": "stream",
     "name": "stdout",
     "text": [
      "[('May', '', '2018')]\n[('May,', '', '2018')]\n[]\n"
     ]
    }
   ],
   "source": [
    "REG = re.compile('(?P<month>([a-zA-Z]+)|(\\d{2}))(,|\\s){1,2}(?P<year>\\d{4})')\n",
    "REG = re.compile('((?:Jan(?:uary)?|Feb(?:ruary)?|Mar(?:ch)?|Apr(?:il)?|May|Jun(?:e)?|Jul(?:y)?|Aug(?:ust)?|Sep(?:tember)?|Oct(?:ober)?|(Nov|Dec)(?:ember)?)\\D?)\\s+(?P<year>\\d{4})')\n",
    "numbers = re.findall(REG, \"May 2018\")\n",
    "print(numbers)\n",
    "numbers = re.findall(REG, \"May, 2018\")\n",
    "print(numbers)\n",
    "\n",
    "numbers = re.findall(REG, \"Automating day to day activities, troubleshooting of 17000+ cloud based linux servers and many more.\")\n",
    "print(numbers)"
   ]
  },
  {
   "cell_type": "code",
   "execution_count": null,
   "metadata": {},
   "outputs": [],
   "source": []
  }
 ]
}