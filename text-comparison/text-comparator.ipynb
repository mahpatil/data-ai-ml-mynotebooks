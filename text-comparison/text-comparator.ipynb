{
 "metadata": {
  "language_info": {
   "codemirror_mode": {
    "name": "ipython",
    "version": 3
   },
   "file_extension": ".py",
   "mimetype": "text/x-python",
   "name": "python",
   "nbconvert_exporter": "python",
   "pygments_lexer": "ipython3",
   "version": "3.9.1"
  },
  "orig_nbformat": 2,
  "kernelspec": {
   "name": "python3",
   "display_name": "Python 3.9.1 64-bit",
   "metadata": {
    "interpreter": {
     "hash": "ac2eaa0ea0ebeafcc7822e65e46aa9d4f966f30b695406963e145ea4a91cd4fc"
    }
   }
  }
 },
 "nbformat": 4,
 "nbformat_minor": 2,
 "cells": [
  {
   "cell_type": "code",
   "execution_count": null,
   "metadata": {},
   "outputs": [],
   "source": [
    "# References\n",
    "# https://towardsdatascience.com/how-to-rank-text-content-by-semantic-similarity-4d2419a84c32\n",
    "# https://dev.to/coderasha/compare-documents-similarity-using-python-nlp-4odp\n",
    "# https://spacy.io/usage/spacy-101#features\n",
    "\n",
    "from pdfminer.high_level import extract_text as pdf_extract_text\n",
    "import docx2txt\n",
    "from os import listdir\n",
    "from os.path import isfile, join\n",
    "import nltk\n",
    "import import_ipynb\n",
    "\n",
    "nltk.download('punkt')\n",
    "nltk.download('averaged_perceptron_tagger')\n",
    "nltk.download('maxent_ne_chunker')\n",
    "nltk.download('words')\n"
   ]
  },
  {
   "cell_type": "code",
   "execution_count": null,
   "metadata": {},
   "outputs": [],
   "source": [
    "FILE_TYPE_PDF = '.pdf'\n",
    "FILE_TYPE_DOC = ['.doc']\n",
    "FILE_TYPE_DOCX = ['.docx']\n",
    "\n",
    "def extract_text_from_pdf(pdf_path):\n",
    "    print('**PDF Extract text')\n",
    "    return pdf_extract_text(pdf_path)\n",
    "    \n",
    "def extract_text_from_docx(docx_path):\n",
    "    print('**DOCX Extract text')\n",
    "    txt = docx2txt.process(docx_path)\n",
    "    if txt:\n",
    "        text = txt.replace('\\t', ' ')\n",
    "    else:\n",
    "        text = None\n",
    "    return text\n",
    "\n",
    "def extract_names(txt):\n",
    "    person_names = []\n",
    "\n",
    "    for sent in nltk.sent_tokenize(txt):\n",
    "        for chunk in nltk.ne_chunk(nltk.pos_tag(nltk.word_tokenize(sent))):\n",
    "            if hasattr(chunk, 'label') and chunk.label() == 'PERSON':\n",
    "                person_names.append(\n",
    "                    ' '.join(chunk_leave[0] for chunk_leave in chunk.leaves())\n",
    "                )\n",
    "\n",
    "    return person_names\n",
    "processed = []\n",
    "\n",
    "#files = os.listdir(RESUMES_PATH)\n",
    "\n",
    "extract_text_from_pdf(f'/Users/xxx/Downloads/Test.pdf')\n"
   ]
  },
  {
   "cell_type": "code",
   "execution_count": null,
   "metadata": {},
   "outputs": [],
   "source": []
  }
 ]
}