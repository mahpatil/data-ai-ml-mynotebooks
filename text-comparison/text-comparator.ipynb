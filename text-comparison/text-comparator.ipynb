{
 "metadata": {
  "language_info": {
   "codemirror_mode": {
    "name": "ipython",
    "version": 3
   },
   "file_extension": ".py",
   "mimetype": "text/x-python",
   "name": "python",
   "nbconvert_exporter": "python",
   "pygments_lexer": "ipython3",
   "version": 3
  },
  "orig_nbformat": 2
 },
 "nbformat": 4,
 "nbformat_minor": 2,
 "cells": [
  {
   "cell_type": "code",
   "execution_count": null,
   "metadata": {},
   "outputs": [],
   "source": [
    "# References\n",
    "# https://towardsdatascience.com/how-to-rank-text-content-by-semantic-similarity-4d2419a84c32\n",
    "# https://dev.to/coderasha/compare-documents-similarity-using-python-nlp-4odp\n",
    "# https://spacy.io/usage/spacy-101#features"
   ]
  }
 ]
}