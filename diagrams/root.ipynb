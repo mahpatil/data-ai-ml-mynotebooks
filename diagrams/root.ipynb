{
 "metadata": {
  "language_info": {
   "codemirror_mode": {
    "name": "ipython",
    "version": 3
   },
   "file_extension": ".py",
   "mimetype": "text/x-python",
   "name": "python",
   "nbconvert_exporter": "python",
   "pygments_lexer": "ipython3",
   "version": "3.9.2"
  },
  "orig_nbformat": 2,
  "kernelspec": {
   "name": "python37764bitf14771438ccb4a66875496c1f6e85ef0",
   "display_name": "Python 3.9.2 64-bit"
  },
  "metadata": {
   "interpreter": {
    "hash": "ac2eaa0ea0ebeafcc7822e65e46aa9d4f966f30b695406963e145ea4a91cd4fc"
   }
  }
 },
 "nbformat": 4,
 "nbformat_minor": 2,
 "cells": [
  {
   "cell_type": "code",
   "execution_count": 18,
   "metadata": {},
   "outputs": [],
   "source": [
    "import os\n",
    "\n",
    "orgName = os.getenv('ORG', None)\n",
    "product1 = os.getenv('PRODUCT1', None)\n",
    "product1Client1 = os.getenv('PRODUCT1_CLIENT1', None)\n"
   ]
  },
  {
   "cell_type": "code",
   "execution_count": 26,
   "metadata": {},
   "outputs": [],
   "source": [
    "from diagrams import Cluster, Diagram, Edge\n",
    "from diagrams.aws.management import OrganizationsAccount\n",
    "from diagrams.aws.management import OrganizationsOrganizationalUnit\n",
    "from diagrams.aws.management import Organizations\n",
    "\n",
    "with Diagram(name=f\"{orgName} AWS Org\", show=True, direction=\"TB\"):\n",
    "    orgMaster = Organizations(f\"{orgName} Master\")\n",
    "\n",
    "    with Cluster(\"Core\"):\n",
    "        ouCore = OrganizationsOrganizationalUnit(\"Core\")\n",
    "        accountsCore = [\n",
    "            OrganizationsAccount(\"Log Archive\"),\n",
    "            OrganizationsAccount(\"Audit\")\n",
    "        ] \n",
    "        orgMaster >> ouCore\n",
    "        ouCore >> accountsCore\n",
    "\n",
    "    with Cluster(\"Shared\"):\n",
    "        ouShared = OrganizationsOrganizationalUnit(\"Shared Services\")\n",
    "        accountsShared = [\n",
    "            OrganizationsAccount(\"Shared Hub\"),\n",
    "            OrganizationsAccount(\"Shared Deploy\")\n",
    "        ] \n",
    "        orgMaster >> ouShared\n",
    "        ouShared >> accountsShared\n",
    "\n",
    "    with Cluster(\"Products\"):\n",
    "        ouProducts = OrganizationsOrganizationalUnit(\"Products\")\n",
    "        ouProduct1 = OrganizationsOrganizationalUnit(f\"{product1}\")\n",
    "        accountsProduct1 = [\n",
    "            OrganizationsAccount(f\"{product1Client1} Pre\"),\n",
    "            OrganizationsAccount(f\"{product1Client1} Prod\")\n",
    "        ] \n",
    "        orgMaster >> ouProducts\n",
    "        ouProducts >> ouProduct1\n",
    "        ouProduct1 >> accountsProduct1    \n"
   ]
  },
  {
   "cell_type": "code",
   "execution_count": null,
   "metadata": {},
   "outputs": [],
   "source": []
  },
  {
   "cell_type": "code",
   "execution_count": null,
   "metadata": {},
   "outputs": [],
   "source": []
  }
 ]
}