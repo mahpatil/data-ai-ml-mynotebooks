{
 "cells": [
  {
   "cell_type": "code",
   "execution_count": 24,
   "metadata": {},
   "outputs": [],
   "source": [
    "from google.cloud import bigquery\n",
    "import pandas as pd\n",
    "import numpy as np\n",
    "import seaborn as sns\n",
    "#import pandas_gbp\n",
    "import matplotlib.pyplot as plt\n",
    "%matplotlib inline\n",
    "from datetime import datetime\n",
    "from matplotlib.ticker import (AutoMinorLocator, MultipleLocator)\n",
    "\n",
    "class Covid19:\n",
    "    df_cumulative_raw = pd.DataFrame()\n",
    "    df_cumulative_by_country = pd.DataFrame()\n",
    "    df_daily = pd.DataFrame()\n",
    "    df_world_population = pd.DataFrame()\n",
    "    df_confirmed = pd.DataFrame()\n",
    "    df_deaths = pd.DataFrame()\n",
    "    df_recovered = pd.DataFrame()\n",
    "    \n",
    "    COL_COUNTRY = \"country\"\n",
    "    COL_DATE = \"date\"\n",
    "    COL_CONFIRMED = \"confirmed\"\n",
    "    COL_DEATHS = \"deaths\"\n",
    "    COL_RECOVERED = \"recovered\"\n",
    "    COL_PROVINCE = \"province_state\"\n",
    "    COL_ACTIVE = 'active'\n",
    "    COL_POPULATION = 'population'\n",
    "    COL_DAILY_CASES = 'Daily Cases'\n",
    "    COL_DAILY_RECOVERED = 'Daily Recovered'\n",
    "    COL_DAILY_DEATHS = 'Daily Deaths'\n",
    "\n",
    "    def __init__(self, datefilter: str = '2020-02-20'):\n",
    "        self.data = []\n",
    "        self.df_confirmed = self.fetch_covid19_cases('confirmed_cases') #this is a tablename\n",
    "        self.df_deaths = self.fetch_covid19_cases(self.COL_DEATHS)\n",
    "        self.df_recovered = self.fetch_covid19_cases('recovered_cases') #this is a tablename\n",
    "        self.df_world_population = self.fetch_population()\n",
    "        self.preprocess(datefilter)\n",
    "        #self.calculate_new()\n",
    "\n",
    "    def preprocess(self, datefilter: str):\n",
    "        #Preprocess\n",
    "        #remove canada as per https://towardsdatascience.com/covid-19-data-processing-58aaa3663f6\n",
    "        self.df_recovered = self.df_recovered[self.df_recovered[self.COL_COUNTRY]!='Canada']\n",
    "        #join the confirmed, deaths and recovered data sets\n",
    "        df_covid = self.covid_flip_datetocolumn(self.df_confirmed, self.COL_CONFIRMED).merge(\n",
    "            right = self.covid_flip_datetocolumn(self.df_deaths, self.COL_DEATHS), \n",
    "            how='left',\n",
    "            on=[self.COL_COUNTRY, self.COL_PROVINCE, self.COL_DATE]\n",
    "        ).merge(\n",
    "            right = self.covid_flip_datetocolumn(self.df_recovered, self.COL_RECOVERED),\n",
    "            how='left',\n",
    "            on=[self.COL_COUNTRY, self.COL_PROVINCE, self.COL_DATE]\n",
    "        )\n",
    "        #remove ship data  https://towardsdatascience.com/covid-19-data-processing-58aaa3663f6\n",
    "        ship_rows = df_covid[self.COL_COUNTRY].str.contains('Diamond Princess') | df_covid[self.COL_COUNTRY].str.contains('MS Zaandam')\n",
    "        nan_rows = df_covid[self.COL_PROVINCE].isna()\n",
    "        df_covid = df_covid[~(ship_rows)]\n",
    "        df_covid = df_covid[~(nan_rows)]\n",
    "        #Calculate active cases\n",
    "        df_covid[self.COL_ACTIVE] = df_covid[self.COL_CONFIRMED] - df_covid[self.COL_DEATHS] - df_covid[self.COL_RECOVERED]\n",
    "        #Join with world population\n",
    "        df_covid_popl = df_covid.join(self.df_world_population, how='outer', on= self.COL_COUNTRY)\n",
    "        #China doesn't have a summary row (province = null) so calculate\n",
    "\n",
    "        #TODO: This should probably be only be done for the by_country dataframe not raw\n",
    "        for var in [self.COL_CONFIRMED, self.COL_DEATHS, self.COL_RECOVERED, self.COL_ACTIVE]:\n",
    "            df_covid_popl[var + '_per1m'] = df_covid_popl[var] * 1000000 / df_covid_popl[self.COL_POPULATION]\n",
    "            df_covid_popl[var + '_per1k'] = df_covid_popl[var] * 100000 / df_covid_popl[self.COL_POPULATION]\n",
    "        #df_covid_popl[self.COL_DATE] = df_covid_popl[self.COL_DATE].map(lambda x: datetime.strptime(x, \"%m/%d/%y\"))\n",
    "\n",
    "        #df_covid_popl.dropna(subset=[self.COL_DATE], inplace=True)\n",
    "        df_covid_popl = df_covid_popl[df_covid_popl[self.COL_DATE] > np.datetime64(datefilter)]\n",
    "\n",
    "        self.df_cumulative_raw = df_covid_popl\n",
    "        self.df_cumulative_by_country = self.df_cumulative_raw[self.df_cumulative_raw[self.COL_PROVINCE] == 'ALL']\n",
    "        self.df_cumulative_by_country.drop([self.COL_PROVINCE], axis=1, inplace=True)\n",
    "\n",
    "        #calculate daily numbers\n",
    "        self.calculate_daily_nos()\n",
    "\n",
    "    def fetch_covid19_cases(self, table):\n",
    "        # Construct a BigQuery client object.\n",
    "        client = bigquery.Client()\n",
    "        query = \"\"\"\n",
    "            SELECT *, \n",
    "            FROM `bigquery-public-data.covid19_jhu_csse.{0}`\n",
    "        \"\"\".format(table)\n",
    "        df_confirmed_cases = client.query(query).to_dataframe()\n",
    "        df_confirmed_cases.drop(['latitude', 'longitude', 'location_geom'], axis=1, inplace=True)\n",
    "        df_confirmed_cases['province_state'] = df_confirmed_cases['province_state'].fillna('ALL')\n",
    "        df_confirmed_cases.rename(columns={'country_region': self.COL_COUNTRY}, inplace=True)\n",
    "        return df_confirmed_cases\n",
    "\n",
    "    def fetch_population(self):\n",
    "        client = bigquery.Client()\n",
    "        query = \"\"\"\n",
    "            SELECT country_code, country_name as country, midyear_population as population \n",
    "            FROM `bigquery-public-data.census_bureau_international.midyear_population`\n",
    "            where year = EXTRACT(year from (CURRENT_DATE()))\n",
    "            order by midyear_population desc\n",
    "        \"\"\"\n",
    "        df_world_population = client.query(query).to_dataframe()\n",
    "        df_world_population[self.COL_COUNTRY][df_world_population[self.COL_COUNTRY] == 'United States'] = 'US'\n",
    "        df_world_population = df_world_population.set_index(self.COL_COUNTRY)\n",
    "        return df_world_population\n",
    "\n",
    "    def covid_flip_datetocolumn(self, df_covid: pd.DataFrame, col_name: str):\n",
    "        dates = df_covid.columns[2:] #excluding country and province\n",
    "        df_temp = df_covid.melt(\n",
    "            id_vars = [self.COL_COUNTRY, self.COL_PROVINCE], \n",
    "            value_vars = dates,\n",
    "            var_name = self.COL_DATE,\n",
    "            value_name = col_name\n",
    "        )\n",
    "        df_temp[self.COL_DATE] = df_temp[self.COL_DATE].map(lambda strtodate: strtodate.replace('_','/')[1:])\n",
    "        df_temp[self.COL_DATE] = df_temp[self.COL_DATE].map(lambda x: datetime.strptime(x, \"%m/%d/%y\"))\n",
    "        return df_temp\n",
    "        \n",
    "    # Calculates ratio of two countries numbes either confirmed cases, deaths, recovered\n",
    "    def covid_ratio_by_country(self, col_name, source, dest):\n",
    "        df_top = self.df_cumulative_by_country[[col_name, self.COL_DATE]][self.df_cumulative_by_country[self.COL_COUNTRY] == source] \n",
    "        df_down = self.df_cumulative_by_country[[col_name, self.COL_DATE]][self.df_cumulative_by_country[self.COL_COUNTRY] == dest] \n",
    "        df_ratio = df_top.merge(df_down, on='date')\n",
    "        df_ratio['ratio'] = df_ratio[col_name + '_x'] / df_ratio[col_name + '_y'] \n",
    "        return df_ratio[[self.COL_DATE, 'ratio']]\n",
    "\n",
    "    def calculate_daily_nos(self):\n",
    "        # new cases \n",
    "        df_covid_popl_new = self.df_cumulative_by_country.groupby(\n",
    "            [self.COL_DATE, self.COL_COUNTRY])[\n",
    "                'confirmed', 'deaths', 'recovered', 'active', 'population', \n",
    "                'confirmed_per1m','deaths_per1m', 'recovered_per1m',\n",
    "                'confirmed_per1k','deaths_per1k', 'recovered_per1k'\n",
    "            ].sum().reset_index()\n",
    "        temp = df_covid_popl_new.groupby(['country', 'date', ])[self.COL_CONFIRMED, self.COL_DEATHS, self.COL_RECOVERED]\n",
    "        temp = temp.sum().diff().reset_index()\n",
    "        mask = temp[self.COL_COUNTRY] != temp[self.COL_COUNTRY].shift(1)\n",
    "        temp.loc[mask, self.COL_CONFIRMED] = np.nan\n",
    "        temp.loc[mask, self.COL_DEATHS] = np.nan\n",
    "        temp.loc[mask, self.COL_RECOVERED] = np.nan\n",
    "        # renaming columns\n",
    "        temp.columns = [self.COL_COUNTRY, self.COL_DATE, self.COL_DAILY_CASES, self.COL_DAILY_DEATHS, self.COL_DAILY_RECOVERED]\n",
    "        # merging new values\n",
    "        df_covid_popl_new = pd.merge(df_covid_popl_new, temp, on=['country', 'date'])\n",
    "        # filling na with 0\n",
    "        df_covid_popl_new = df_covid_popl_new.fillna(0)\n",
    "        # fixing data types\n",
    "        cols = [self.COL_DAILY_CASES, self.COL_DAILY_DEATHS, self.COL_DAILY_RECOVERED]\n",
    "        df_covid_popl_new[cols] = df_covid_popl_new[cols].astype('int')\n",
    "        # \n",
    "        df_covid_popl_new[self.COL_DAILY_CASES] = df_covid_popl_new[self.COL_DAILY_CASES].apply(lambda x: 0 if x<0 else x)\n",
    "        self.df_daily = df_covid_popl_new\n"
   ]
  },
  {
   "cell_type": "code",
   "execution_count": 25,
   "metadata": {},
   "outputs": [],
   "source": [
    "covid19 = Covid19()\n"
   ]
  },
  {
   "cell_type": "code",
   "execution_count": 23,
   "metadata": {},
   "outputs": [
    {
     "output_type": "execute_result",
     "data": {
      "text/plain": "array(['Tibet', 'Macau', 'Qinghai', 'Zhejiang', 'Hong Kong', 'Shanghai',\n       'Hunan', 'Heilongjiang', 'Xinjiang', 'Ningxia', 'Inner Mongolia',\n       'Beijing', 'Jilin', 'Guangdong', 'Gansu', 'Tianjin', 'Guizhou',\n       'Liaoning', 'Sichuan', 'Shanxi', 'Hainan', 'Yunnan', 'Shandong',\n       'Chongqing', 'Guangxi', 'Jiangsu', 'Jiangxi', 'Hebei', 'Shaanxi',\n       'Henan', 'Hubei', 'Anhui', 'Fujian'], dtype=object)"
     },
     "metadata": {},
     "execution_count": 23
    }
   ],
   "source": [
    "covid19.df_cumulative_raw[covid19.df_cumulative_raw['country'] =='China']['province_state'].unique()"
   ]
  },
  {
   "cell_type": "code",
   "execution_count": 20,
   "metadata": {},
   "outputs": [
    {
     "output_type": "execute_result",
     "data": {
      "text/plain": "Empty DataFrame\nColumns: [country, date, confirmed, deaths, recovered, active, country_code, population, confirmed_per1m, confirmed_per1k, deaths_per1m, deaths_per1k, recovered_per1m, recovered_per1k, active_per1m, active_per1k]\nIndex: []",
      "text/html": "<div>\n<style scoped>\n    .dataframe tbody tr th:only-of-type {\n        vertical-align: middle;\n    }\n\n    .dataframe tbody tr th {\n        vertical-align: top;\n    }\n\n    .dataframe thead th {\n        text-align: right;\n    }\n</style>\n<table border=\"1\" class=\"dataframe\">\n  <thead>\n    <tr style=\"text-align: right;\">\n      <th></th>\n      <th>country</th>\n      <th>date</th>\n      <th>confirmed</th>\n      <th>deaths</th>\n      <th>recovered</th>\n      <th>active</th>\n      <th>country_code</th>\n      <th>population</th>\n      <th>confirmed_per1m</th>\n      <th>confirmed_per1k</th>\n      <th>deaths_per1m</th>\n      <th>deaths_per1k</th>\n      <th>recovered_per1m</th>\n      <th>recovered_per1k</th>\n      <th>active_per1m</th>\n      <th>active_per1k</th>\n    </tr>\n  </thead>\n  <tbody>\n  </tbody>\n</table>\n</div>"
     },
     "metadata": {},
     "execution_count": 20
    }
   ],
   "source": [
    "covid19.df_cumulative_by_country[covid19.df_cumulative_by_country['country'] =='China']"
   ]
  },
  {
   "cell_type": "code",
   "execution_count": 26,
   "metadata": {},
   "outputs": [
    {
     "output_type": "execute_result",
     "data": {
      "text/plain": "            date             country  confirmed  deaths  recovered  active  \\\n0     2020-02-21         Afghanistan        0.0     0.0        0.0     0.0   \n1     2020-02-21             Albania        0.0     0.0        0.0     0.0   \n2     2020-02-21             Algeria        0.0     0.0        0.0     0.0   \n3     2020-02-21             Andorra        0.0     0.0        0.0     0.0   \n4     2020-02-21              Angola        0.0     0.0        0.0     0.0   \n...          ...                 ...        ...     ...        ...     ...   \n19576 2020-06-06  West Bank and Gaza      464.0     3.0      400.0    61.0   \n19577 2020-06-06      Western Sahara        9.0     1.0        6.0     2.0   \n19578 2020-06-06               Yemen      482.0   111.0       23.0   348.0   \n19579 2020-06-06              Zambia     1089.0     7.0      912.0   170.0   \n19580 2020-06-06            Zimbabwe      279.0     4.0       33.0   242.0   \n\n       population  confirmed_per1m  deaths_per1m  recovered_per1m  \\\n0      36643815.0         0.000000      0.000000         0.000000   \n1       3074579.0         0.000000      0.000000         0.000000   \n2      42972878.0         0.000000      0.000000         0.000000   \n3         85635.0         0.000000      0.000000         0.000000   \n4      32522339.0         0.000000      0.000000         0.000000   \n...           ...              ...           ...              ...   \n19576         0.0         0.000000      0.000000         0.000000   \n19577    652271.0        13.797946      1.533105         9.198631   \n19578  29884405.0        16.128814      3.714312         0.769632   \n19579  17426623.0        62.490593      0.401684        52.333720   \n19580  14546314.0        19.180117      0.274984         2.268616   \n\n       confirmed_per1k  deaths_per1k  recovered_per1k  Daily Cases  \\\n0             0.000000      0.000000         0.000000            0   \n1             0.000000      0.000000         0.000000            0   \n2             0.000000      0.000000         0.000000            0   \n3             0.000000      0.000000         0.000000            0   \n4             0.000000      0.000000         0.000000            0   \n...                ...           ...              ...          ...   \n19576         0.000000      0.000000         0.000000            0   \n19577         1.379795      0.153311         0.919863            0   \n19578         1.612881      0.371431         0.076963           13   \n19579         6.249059      0.040168         5.233372            0   \n19580         1.918012      0.027498         0.226862           14   \n\n       Daily Deaths  Daily Recovered  \n0                 0                0  \n1                 0                0  \n2                 0                0  \n3                 0                0  \n4                 0                0  \n...             ...              ...  \n19576             0               23  \n19577             0                0  \n19578             0                0  \n19579             0                0  \n19580             0                0  \n\n[19581 rows x 16 columns]",
      "text/html": "<div>\n<style scoped>\n    .dataframe tbody tr th:only-of-type {\n        vertical-align: middle;\n    }\n\n    .dataframe tbody tr th {\n        vertical-align: top;\n    }\n\n    .dataframe thead th {\n        text-align: right;\n    }\n</style>\n<table border=\"1\" class=\"dataframe\">\n  <thead>\n    <tr style=\"text-align: right;\">\n      <th></th>\n      <th>date</th>\n      <th>country</th>\n      <th>confirmed</th>\n      <th>deaths</th>\n      <th>recovered</th>\n      <th>active</th>\n      <th>population</th>\n      <th>confirmed_per1m</th>\n      <th>deaths_per1m</th>\n      <th>recovered_per1m</th>\n      <th>confirmed_per1k</th>\n      <th>deaths_per1k</th>\n      <th>recovered_per1k</th>\n      <th>Daily Cases</th>\n      <th>Daily Deaths</th>\n      <th>Daily Recovered</th>\n    </tr>\n  </thead>\n  <tbody>\n    <tr>\n      <th>0</th>\n      <td>2020-02-21</td>\n      <td>Afghanistan</td>\n      <td>0.0</td>\n      <td>0.0</td>\n      <td>0.0</td>\n      <td>0.0</td>\n      <td>36643815.0</td>\n      <td>0.000000</td>\n      <td>0.000000</td>\n      <td>0.000000</td>\n      <td>0.000000</td>\n      <td>0.000000</td>\n      <td>0.000000</td>\n      <td>0</td>\n      <td>0</td>\n      <td>0</td>\n    </tr>\n    <tr>\n      <th>1</th>\n      <td>2020-02-21</td>\n      <td>Albania</td>\n      <td>0.0</td>\n      <td>0.0</td>\n      <td>0.0</td>\n      <td>0.0</td>\n      <td>3074579.0</td>\n      <td>0.000000</td>\n      <td>0.000000</td>\n      <td>0.000000</td>\n      <td>0.000000</td>\n      <td>0.000000</td>\n      <td>0.000000</td>\n      <td>0</td>\n      <td>0</td>\n      <td>0</td>\n    </tr>\n    <tr>\n      <th>2</th>\n      <td>2020-02-21</td>\n      <td>Algeria</td>\n      <td>0.0</td>\n      <td>0.0</td>\n      <td>0.0</td>\n      <td>0.0</td>\n      <td>42972878.0</td>\n      <td>0.000000</td>\n      <td>0.000000</td>\n      <td>0.000000</td>\n      <td>0.000000</td>\n      <td>0.000000</td>\n      <td>0.000000</td>\n      <td>0</td>\n      <td>0</td>\n      <td>0</td>\n    </tr>\n    <tr>\n      <th>3</th>\n      <td>2020-02-21</td>\n      <td>Andorra</td>\n      <td>0.0</td>\n      <td>0.0</td>\n      <td>0.0</td>\n      <td>0.0</td>\n      <td>85635.0</td>\n      <td>0.000000</td>\n      <td>0.000000</td>\n      <td>0.000000</td>\n      <td>0.000000</td>\n      <td>0.000000</td>\n      <td>0.000000</td>\n      <td>0</td>\n      <td>0</td>\n      <td>0</td>\n    </tr>\n    <tr>\n      <th>4</th>\n      <td>2020-02-21</td>\n      <td>Angola</td>\n      <td>0.0</td>\n      <td>0.0</td>\n      <td>0.0</td>\n      <td>0.0</td>\n      <td>32522339.0</td>\n      <td>0.000000</td>\n      <td>0.000000</td>\n      <td>0.000000</td>\n      <td>0.000000</td>\n      <td>0.000000</td>\n      <td>0.000000</td>\n      <td>0</td>\n      <td>0</td>\n      <td>0</td>\n    </tr>\n    <tr>\n      <th>...</th>\n      <td>...</td>\n      <td>...</td>\n      <td>...</td>\n      <td>...</td>\n      <td>...</td>\n      <td>...</td>\n      <td>...</td>\n      <td>...</td>\n      <td>...</td>\n      <td>...</td>\n      <td>...</td>\n      <td>...</td>\n      <td>...</td>\n      <td>...</td>\n      <td>...</td>\n      <td>...</td>\n    </tr>\n    <tr>\n      <th>19576</th>\n      <td>2020-06-06</td>\n      <td>West Bank and Gaza</td>\n      <td>464.0</td>\n      <td>3.0</td>\n      <td>400.0</td>\n      <td>61.0</td>\n      <td>0.0</td>\n      <td>0.000000</td>\n      <td>0.000000</td>\n      <td>0.000000</td>\n      <td>0.000000</td>\n      <td>0.000000</td>\n      <td>0.000000</td>\n      <td>0</td>\n      <td>0</td>\n      <td>23</td>\n    </tr>\n    <tr>\n      <th>19577</th>\n      <td>2020-06-06</td>\n      <td>Western Sahara</td>\n      <td>9.0</td>\n      <td>1.0</td>\n      <td>6.0</td>\n      <td>2.0</td>\n      <td>652271.0</td>\n      <td>13.797946</td>\n      <td>1.533105</td>\n      <td>9.198631</td>\n      <td>1.379795</td>\n      <td>0.153311</td>\n      <td>0.919863</td>\n      <td>0</td>\n      <td>0</td>\n      <td>0</td>\n    </tr>\n    <tr>\n      <th>19578</th>\n      <td>2020-06-06</td>\n      <td>Yemen</td>\n      <td>482.0</td>\n      <td>111.0</td>\n      <td>23.0</td>\n      <td>348.0</td>\n      <td>29884405.0</td>\n      <td>16.128814</td>\n      <td>3.714312</td>\n      <td>0.769632</td>\n      <td>1.612881</td>\n      <td>0.371431</td>\n      <td>0.076963</td>\n      <td>13</td>\n      <td>0</td>\n      <td>0</td>\n    </tr>\n    <tr>\n      <th>19579</th>\n      <td>2020-06-06</td>\n      <td>Zambia</td>\n      <td>1089.0</td>\n      <td>7.0</td>\n      <td>912.0</td>\n      <td>170.0</td>\n      <td>17426623.0</td>\n      <td>62.490593</td>\n      <td>0.401684</td>\n      <td>52.333720</td>\n      <td>6.249059</td>\n      <td>0.040168</td>\n      <td>5.233372</td>\n      <td>0</td>\n      <td>0</td>\n      <td>0</td>\n    </tr>\n    <tr>\n      <th>19580</th>\n      <td>2020-06-06</td>\n      <td>Zimbabwe</td>\n      <td>279.0</td>\n      <td>4.0</td>\n      <td>33.0</td>\n      <td>242.0</td>\n      <td>14546314.0</td>\n      <td>19.180117</td>\n      <td>0.274984</td>\n      <td>2.268616</td>\n      <td>1.918012</td>\n      <td>0.027498</td>\n      <td>0.226862</td>\n      <td>14</td>\n      <td>0</td>\n      <td>0</td>\n    </tr>\n  </tbody>\n</table>\n<p>19581 rows × 16 columns</p>\n</div>"
     },
     "metadata": {},
     "execution_count": 26
    }
   ],
   "source": [
    "covid19.df_daily"
   ]
  },
  {
   "cell_type": "code",
   "execution_count": null,
   "metadata": {},
   "outputs": [],
   "source": []
  }
 ],
 "metadata": {
  "kernelspec": {
   "display_name": "Python 3.7.7 64-bit",
   "language": "python",
   "name": "python37764bitf14771438ccb4a66875496c1f6e85ef0"
  },
  "language_info": {
   "codemirror_mode": {
    "name": "ipython",
    "version": 3
   },
   "file_extension": ".py",
   "mimetype": "text/x-python",
   "name": "python",
   "nbconvert_exporter": "python",
   "pygments_lexer": "ipython3",
   "version": "3.7.7-final"
  }
 },
 "nbformat": 4,
 "nbformat_minor": 4
}