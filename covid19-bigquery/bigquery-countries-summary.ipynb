{
 "cells": [
  {
   "cell_type": "code",
   "execution_count": 3,
   "metadata": {},
   "outputs": [],
   "source": [
    "from google.cloud import bigquery\n",
    "import pandas as pd\n",
    "#import pandas_gbp\n",
    "import matplotlib.pyplot as plt\n",
    "%matplotlib inline\n",
    "\n",
    "def fetch_covid19_summary():\n",
    "    # Construct a BigQuery client object.\n",
    "    client = bigquery.Client()\n",
    "    query = \"\"\"\n",
    "        SELECT *, \n",
    "        FROM `bigquery-public-data.covid19_jhu_csse.summary`\n",
    "    \"\"\"\n",
    "    df_covid = client.query(query).to_dataframe()\n",
    "    df_covid.drop(['latitude', 'longitude', 'location_geom'], axis=1, inplace=True)\n",
    "\n",
    "    df_covid['province_state'] = df_covid['province_state'].fillna('ALL')\n",
    "    df_covid = df_covid[df_covid['province_state'] == 'ALL']\n",
    "    df_covid.rename(columns={'country_region': 'country'}, inplace=True)\n",
    "    #df_covid = df_covid.set_index('country')\n",
    "    df_covid.drop(['province_state'], axis=1, inplace=True)\n",
    "    return df_covid\n",
    "\n",
    "def fetch_population():\n",
    "    client = bigquery.Client()\n",
    "    query = \"\"\"\n",
    "        SELECT country_code, country_name as country, midyear_population as population FROM `bigquery-public-data.census_bureau_international.midyear_population`\n",
    "        where year = EXTRACT(year from (CURRENT_DATE()))\n",
    "        order by midyear_population desc\n",
    "    \"\"\"\n",
    "    df_world_population = client.query(query).to_dataframe()\n",
    "    df_world_population = df_world_population.set_index('country')\n",
    "    return df_world_population"
   ]
  },
  {
   "cell_type": "code",
   "execution_count": 4,
   "metadata": {},
   "outputs": [],
   "source": [
    "df_covid = fetch_covid19_summary()\n",
    "df_world_population = fetch_population()"
   ]
  },
  {
   "cell_type": "code",
   "execution_count": 6,
   "metadata": {},
   "outputs": [],
   "source": [
    "#pd.merge(df_confirmed_cases, df_world_population, on=['country' ,'country'])\n",
    "df_covid_popl = df_covid.join(df_world_population, how='outer')"
   ]
  },
  {
   "cell_type": "code",
   "execution_count": 3,
   "metadata": {},
   "outputs": [
    {
     "output_type": "error",
     "ename": "NameError",
     "evalue": "name 'df_confirmed_cases_popl' is not defined",
     "traceback": [
      "\u001b[0;31m---------------------------------------------------------------------------\u001b[0m",
      "\u001b[0;31mNameError\u001b[0m                                 Traceback (most recent call last)",
      "\u001b[0;32m<ipython-input-3-be83fa31d285>\u001b[0m in \u001b[0;36m<module>\u001b[0;34m\u001b[0m\n\u001b[0;32m----> 1\u001b[0;31m \u001b[0mdates\u001b[0m \u001b[0;34m=\u001b[0m \u001b[0mdf_confirmed_cases_popl\u001b[0m\u001b[0;34m.\u001b[0m\u001b[0mcolumns\u001b[0m\u001b[0;34m[\u001b[0m\u001b[0;36m1\u001b[0m\u001b[0;34m:\u001b[0m\u001b[0;34m]\u001b[0m\u001b[0;34m\u001b[0m\u001b[0;34m\u001b[0m\u001b[0m\n\u001b[0m\u001b[1;32m      2\u001b[0m \u001b[0;32mlambda\u001b[0m \u001b[0mstrtodate\u001b[0m\u001b[0;34m:\u001b[0m \u001b[0mstrtodate\u001b[0m\u001b[0;34m.\u001b[0m\u001b[0mreplace\u001b[0m\u001b[0;34m(\u001b[0m\u001b[0;34m'_'\u001b[0m\u001b[0;34m,\u001b[0m\u001b[0;34m'/'\u001b[0m\u001b[0;34m)\u001b[0m\u001b[0;34m[\u001b[0m\u001b[0;36m1\u001b[0m\u001b[0;34m:\u001b[0m\u001b[0;34m]\u001b[0m\u001b[0;34m\u001b[0m\u001b[0;34m\u001b[0m\u001b[0m\n\u001b[1;32m      3\u001b[0m \u001b[0mdates\u001b[0m\u001b[0;34m.\u001b[0m\u001b[0mmap\u001b[0m\u001b[0;34m(\u001b[0m\u001b[0mstrtodate\u001b[0m\u001b[0;34m)\u001b[0m\u001b[0;34m\u001b[0m\u001b[0;34m\u001b[0m\u001b[0m\n",
      "\u001b[0;31mNameError\u001b[0m: name 'df_confirmed_cases_popl' is not defined"
     ]
    }
   ],
   "source": [
    "df_covid"
   ]
  },
  {
   "cell_type": "code",
   "execution_count": null,
   "metadata": {},
   "outputs": [],
   "source": []
  }
 ],
 "metadata": {
  "kernelspec": {
   "display_name": "Python 3.7.7 64-bit",
   "language": "python",
   "name": "python37764bitf14771438ccb4a66875496c1f6e85ef0"
  },
  "language_info": {
   "codemirror_mode": {
    "name": "ipython",
    "version": 3
   },
   "file_extension": ".py",
   "mimetype": "text/x-python",
   "name": "python",
   "nbconvert_exporter": "python",
   "pygments_lexer": "ipython3",
   "version": "3.7.7-final"
  }
 },
 "nbformat": 4,
 "nbformat_minor": 4
}